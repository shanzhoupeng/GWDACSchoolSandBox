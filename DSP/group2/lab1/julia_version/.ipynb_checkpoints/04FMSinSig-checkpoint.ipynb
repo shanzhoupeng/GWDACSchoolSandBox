{
 "cells": [
  {
   "cell_type": "markdown",
   "metadata": {},
   "source": [
    "# Define the frequency modulated (FM) sinusoid signal and plot it."
   ]
  },
  {
   "cell_type": "markdown",
   "metadata": {},
   "source": [
    "## Define the frequency modulated (FM) sinusoid signal."
   ]
  },
  {
   "cell_type": "code",
   "execution_count": 7,
   "metadata": {},
   "outputs": [
    {
     "data": {
      "text/plain": [
       "0.8414709848078964"
      ]
     },
     "execution_count": 7,
     "metadata": {},
     "output_type": "execute_result"
    }
   ],
   "source": [
    "\"\"\"\n",
    "Generates a frequency modulated (FM) sinusoid S. \n",
    "t is the time, snr is the matched filtering signal-to-noise ratio of S,\n",
    "and [b, f0, f1] are three coefficients that parametrize the phase of \n",
    "the signal: 2π*f0*t + b*cos(2π*f1*t).\n",
    "\"\"\"\n",
    "function FMSinSig(t::Real, snr::Real, b::Real, f0::Real, f1::Real)\n",
    "    phase = 2π*f0*t;\n",
    "    phase += b*cos(2π*f1*t);\n",
    "    signal = sin(phase)\n",
    "end\n",
    "\n",
    "# test the function\n",
    "FMSinSig(1, 1, 1, 1, 1)"
   ]
  },
  {
   "cell_type": "code",
   "execution_count": 9,
   "metadata": {},
   "outputs": [
    {
     "name": "stdout",
     "output_type": "stream",
     "text": [
      "search: \u001b[0m\u001b[1mF\u001b[22m\u001b[0m\u001b[1mM\u001b[22m\u001b[0m\u001b[1mS\u001b[22m\u001b[0m\u001b[1mi\u001b[22m\u001b[0m\u001b[1mn\u001b[22m\u001b[0m\u001b[1mS\u001b[22m\u001b[0m\u001b[1mi\u001b[22m\u001b[0m\u001b[1mg\u001b[22m\n",
      "\n"
     ]
    },
    {
     "data": {
      "text/latex": [
       "Generates a frequency modulated (FM) sinusoid S.  t is the time, snr is the matched filtering signal-to-noise ratio of S, and [b, f0, f1] are three coefficients that parametrize the phase of  the signal: 2π\\emph{f0}t + b\\emph{cos(2π}f1*t).\n",
       "\n",
       "\\rule{\\textwidth}{1pt}\n",
       "Generates a frequency modulated (FM) sinusoid S.  t is the time, snr is the matched filtering signal-to-noise ratio of S, and [b, f0, f1] are three coefficients that parametrize the phase of  the signal: 2π\\emph{f0}t + b\\emph{cos(2π}f1*t).\n",
       "\n"
      ],
      "text/markdown": [
       "Generates a frequency modulated (FM) sinusoid S.  t is the time, snr is the matched filtering signal-to-noise ratio of S, and [b, f0, f1] are three coefficients that parametrize the phase of  the signal: 2π*f0*t + b*cos(2π*f1*t).\n",
       "\n",
       "---\n",
       "\n",
       "Generates a frequency modulated (FM) sinusoid S.  t is the time, snr is the matched filtering signal-to-noise ratio of S, and [b, f0, f1] are three coefficients that parametrize the phase of  the signal: 2π*f0*t + b*cos(2π*f1*t).\n"
      ],
      "text/plain": [
       "  Generates a frequency modulated (FM) sinusoid S. t is the time, snr is the\n",
       "  matched filtering signal-to-noise ratio of S, and [b, f0, f1] are three\n",
       "  coefficients that parametrize the phase of the signal: 2π\u001b[4mf0\u001b[24mt + b\u001b[4mcos(2π\u001b[24mf1*t).\n",
       "\n",
       "  ────────────────────────────────────────────────────────────────────────────\n",
       "\n",
       "  Generates a frequency modulated (FM) sinusoid S. t is the time, snr is the\n",
       "  matched filtering signal-to-noise ratio of S, and [b, f0, f1] are three\n",
       "  coefficients that parametrize the phase of the signal: 2π\u001b[4mf0\u001b[24mt + b\u001b[4mcos(2π\u001b[24mf1*t)."
      ]
     },
     "execution_count": 9,
     "metadata": {},
     "output_type": "execute_result"
    }
   ],
   "source": [
    "?FMSinSig"
   ]
  },
  {
   "cell_type": "markdown",
   "metadata": {},
   "source": [
    "## Plot the signal."
   ]
  },
  {
   "cell_type": "code",
   "execution_count": 16,
   "metadata": {},
   "outputs": [],
   "source": [
    "using Plots"
   ]
  },
  {
   "cell_type": "code",
   "execution_count": 8,
   "metadata": {},
   "outputs": [],
   "source": [
    "#Set signal parameters.\n",
    "snr = 10;\n",
    "b = 1;\n",
    "f0 = 20;\n",
    "f1 = 20;"
   ]
  },
  {
   "cell_type": "code",
   "execution_count": 10,
   "metadata": {},
   "outputs": [],
   "source": [
    "#Instantaneous frequency after 1 sec.\n",
    "maxFreq = 2π*f0 + b*cos(2π*f1);\n",
    "samplFreq = 5*maxFreq;\n",
    "samplIntrvl = 1/samplFreq;"
   ]
  },
  {
   "cell_type": "code",
   "execution_count": 11,
   "metadata": {},
   "outputs": [],
   "source": [
    "#Time samples.\n",
    "times = 0:samplIntrvl:1.0;\n",
    "\n",
    "# Number of samples\n",
    "nSamples = length(times);"
   ]
  },
  {
   "cell_type": "code",
   "execution_count": 13,
   "metadata": {},
   "outputs": [],
   "source": [
    "# Generate the signal.\n",
    "signals = FMSinSig.(times, snr, b, f0, f1);"
   ]
  },
  {
   "cell_type": "markdown",
   "metadata": {},
   "source": [
    "### Plot the signal."
   ]
  },
  {
   "cell_type": "code",
   "execution_count": 18,
   "metadata": {},
   "outputs": [
    {
     "data": {
      "image/svg+xml": [
       "<?xml version=\"1.0\" encoding=\"utf-8\"?>\n",
       "<svg xmlns=\"http://www.w3.org/2000/svg\" xmlns:xlink=\"http://www.w3.org/1999/xlink\" width=\"600\" height=\"400\" viewBox=\"0 0 2400 1600\">\n",
       "<defs>\n",
       "  <clipPath id=\"clip7000\">\n",
       "    <rect x=\"0\" y=\"0\" width=\"2000\" height=\"2000\"/>\n",
       "  </clipPath>\n",
       "</defs>\n",
       "<defs>\n",
       "  <clipPath id=\"clip7001\">\n",
       "    <rect x=\"0\" y=\"0\" width=\"2400\" height=\"1600\"/>\n",
       "  </clipPath>\n",
       "</defs>\n",
       "<polygon clip-path=\"url(#clip7001)\" points=\"\n",
       "0,1600 2400,1600 2400,0 0,0 \n",
       "  \" fill=\"#ffffff\" fill-rule=\"evenodd\" fill-opacity=\"1\"/>\n",
       "<defs>\n",
       "  <clipPath id=\"clip7002\">\n",
       "    <rect x=\"480\" y=\"0\" width=\"1681\" height=\"1600\"/>\n",
       "  </clipPath>\n",
       "</defs>\n",
       "<polygon clip-path=\"url(#clip7001)\" points=\"\n",
       "189.504,1503.47 2321.26,1503.47 2321.26,47.2441 189.504,47.2441 \n",
       "  \" fill=\"#ffffff\" fill-rule=\"evenodd\" fill-opacity=\"1\"/>\n",
       "<defs>\n",
       "  <clipPath id=\"clip7003\">\n",
       "    <rect x=\"189\" y=\"47\" width=\"2133\" height=\"1457\"/>\n",
       "  </clipPath>\n",
       "</defs>\n",
       "<polyline clip-path=\"url(#clip7003)\" style=\"stroke:#000000; stroke-width:2; stroke-opacity:0.1; fill:none\" points=\"\n",
       "  249.837,1503.47 249.837,47.2441 \n",
       "  \"/>\n",
       "<polyline clip-path=\"url(#clip7003)\" style=\"stroke:#000000; stroke-width:2; stroke-opacity:0.1; fill:none\" points=\"\n",
       "  752.862,1503.47 752.862,47.2441 \n",
       "  \"/>\n",
       "<polyline clip-path=\"url(#clip7003)\" style=\"stroke:#000000; stroke-width:2; stroke-opacity:0.1; fill:none\" points=\"\n",
       "  1255.89,1503.47 1255.89,47.2441 \n",
       "  \"/>\n",
       "<polyline clip-path=\"url(#clip7003)\" style=\"stroke:#000000; stroke-width:2; stroke-opacity:0.1; fill:none\" points=\"\n",
       "  1758.91,1503.47 1758.91,47.2441 \n",
       "  \"/>\n",
       "<polyline clip-path=\"url(#clip7003)\" style=\"stroke:#000000; stroke-width:2; stroke-opacity:0.1; fill:none\" points=\"\n",
       "  2261.94,1503.47 2261.94,47.2441 \n",
       "  \"/>\n",
       "<polyline clip-path=\"url(#clip7003)\" style=\"stroke:#000000; stroke-width:2; stroke-opacity:0.1; fill:none\" points=\"\n",
       "  189.504,1462.53 2321.26,1462.53 \n",
       "  \"/>\n",
       "<polyline clip-path=\"url(#clip7003)\" style=\"stroke:#000000; stroke-width:2; stroke-opacity:0.1; fill:none\" points=\"\n",
       "  189.504,1119.01 2321.26,1119.01 \n",
       "  \"/>\n",
       "<polyline clip-path=\"url(#clip7003)\" style=\"stroke:#000000; stroke-width:2; stroke-opacity:0.1; fill:none\" points=\"\n",
       "  189.504,775.493 2321.26,775.493 \n",
       "  \"/>\n",
       "<polyline clip-path=\"url(#clip7003)\" style=\"stroke:#000000; stroke-width:2; stroke-opacity:0.1; fill:none\" points=\"\n",
       "  189.504,431.975 2321.26,431.975 \n",
       "  \"/>\n",
       "<polyline clip-path=\"url(#clip7003)\" style=\"stroke:#000000; stroke-width:2; stroke-opacity:0.1; fill:none\" points=\"\n",
       "  189.504,88.4582 2321.26,88.4582 \n",
       "  \"/>\n",
       "<polyline clip-path=\"url(#clip7001)\" style=\"stroke:#000000; stroke-width:4; stroke-opacity:1; fill:none\" points=\"\n",
       "  189.504,1503.47 2321.26,1503.47 \n",
       "  \"/>\n",
       "<polyline clip-path=\"url(#clip7001)\" style=\"stroke:#000000; stroke-width:4; stroke-opacity:1; fill:none\" points=\"\n",
       "  189.504,1503.47 189.504,47.2441 \n",
       "  \"/>\n",
       "<polyline clip-path=\"url(#clip7001)\" style=\"stroke:#000000; stroke-width:4; stroke-opacity:1; fill:none\" points=\"\n",
       "  249.837,1503.47 249.837,1481.63 \n",
       "  \"/>\n",
       "<polyline clip-path=\"url(#clip7001)\" style=\"stroke:#000000; stroke-width:4; stroke-opacity:1; fill:none\" points=\"\n",
       "  752.862,1503.47 752.862,1481.63 \n",
       "  \"/>\n",
       "<polyline clip-path=\"url(#clip7001)\" style=\"stroke:#000000; stroke-width:4; stroke-opacity:1; fill:none\" points=\"\n",
       "  1255.89,1503.47 1255.89,1481.63 \n",
       "  \"/>\n",
       "<polyline clip-path=\"url(#clip7001)\" style=\"stroke:#000000; stroke-width:4; stroke-opacity:1; fill:none\" points=\"\n",
       "  1758.91,1503.47 1758.91,1481.63 \n",
       "  \"/>\n",
       "<polyline clip-path=\"url(#clip7001)\" style=\"stroke:#000000; stroke-width:4; stroke-opacity:1; fill:none\" points=\"\n",
       "  2261.94,1503.47 2261.94,1481.63 \n",
       "  \"/>\n",
       "<polyline clip-path=\"url(#clip7001)\" style=\"stroke:#000000; stroke-width:4; stroke-opacity:1; fill:none\" points=\"\n",
       "  189.504,1462.53 221.48,1462.53 \n",
       "  \"/>\n",
       "<polyline clip-path=\"url(#clip7001)\" style=\"stroke:#000000; stroke-width:4; stroke-opacity:1; fill:none\" points=\"\n",
       "  189.504,1119.01 221.48,1119.01 \n",
       "  \"/>\n",
       "<polyline clip-path=\"url(#clip7001)\" style=\"stroke:#000000; stroke-width:4; stroke-opacity:1; fill:none\" points=\"\n",
       "  189.504,775.493 221.48,775.493 \n",
       "  \"/>\n",
       "<polyline clip-path=\"url(#clip7001)\" style=\"stroke:#000000; stroke-width:4; stroke-opacity:1; fill:none\" points=\"\n",
       "  189.504,431.975 221.48,431.975 \n",
       "  \"/>\n",
       "<polyline clip-path=\"url(#clip7001)\" style=\"stroke:#000000; stroke-width:4; stroke-opacity:1; fill:none\" points=\"\n",
       "  189.504,88.4582 221.48,88.4582 \n",
       "  \"/>\n",
       "<g clip-path=\"url(#clip7001)\">\n",
       "<text style=\"fill:#000000; fill-opacity:1; font-family:Arial,Helvetica Neue,Helvetica,sans-serif; font-size:48px; text-anchor:middle;\" transform=\"rotate(0, 249.837, 1557.47)\" x=\"249.837\" y=\"1557.47\">0.00</text>\n",
       "</g>\n",
       "<g clip-path=\"url(#clip7001)\">\n",
       "<text style=\"fill:#000000; fill-opacity:1; font-family:Arial,Helvetica Neue,Helvetica,sans-serif; font-size:48px; text-anchor:middle;\" transform=\"rotate(0, 752.862, 1557.47)\" x=\"752.862\" y=\"1557.47\">0.25</text>\n",
       "</g>\n",
       "<g clip-path=\"url(#clip7001)\">\n",
       "<text style=\"fill:#000000; fill-opacity:1; font-family:Arial,Helvetica Neue,Helvetica,sans-serif; font-size:48px; text-anchor:middle;\" transform=\"rotate(0, 1255.89, 1557.47)\" x=\"1255.89\" y=\"1557.47\">0.50</text>\n",
       "</g>\n",
       "<g clip-path=\"url(#clip7001)\">\n",
       "<text style=\"fill:#000000; fill-opacity:1; font-family:Arial,Helvetica Neue,Helvetica,sans-serif; font-size:48px; text-anchor:middle;\" transform=\"rotate(0, 1758.91, 1557.47)\" x=\"1758.91\" y=\"1557.47\">0.75</text>\n",
       "</g>\n",
       "<g clip-path=\"url(#clip7001)\">\n",
       "<text style=\"fill:#000000; fill-opacity:1; font-family:Arial,Helvetica Neue,Helvetica,sans-serif; font-size:48px; text-anchor:middle;\" transform=\"rotate(0, 2261.94, 1557.47)\" x=\"2261.94\" y=\"1557.47\">1.00</text>\n",
       "</g>\n",
       "<g clip-path=\"url(#clip7001)\">\n",
       "<text style=\"fill:#000000; fill-opacity:1; font-family:Arial,Helvetica Neue,Helvetica,sans-serif; font-size:48px; text-anchor:end;\" transform=\"rotate(0, 165.504, 1480.03)\" x=\"165.504\" y=\"1480.03\">-1.0</text>\n",
       "</g>\n",
       "<g clip-path=\"url(#clip7001)\">\n",
       "<text style=\"fill:#000000; fill-opacity:1; font-family:Arial,Helvetica Neue,Helvetica,sans-serif; font-size:48px; text-anchor:end;\" transform=\"rotate(0, 165.504, 1136.51)\" x=\"165.504\" y=\"1136.51\">-0.5</text>\n",
       "</g>\n",
       "<g clip-path=\"url(#clip7001)\">\n",
       "<text style=\"fill:#000000; fill-opacity:1; font-family:Arial,Helvetica Neue,Helvetica,sans-serif; font-size:48px; text-anchor:end;\" transform=\"rotate(0, 165.504, 792.993)\" x=\"165.504\" y=\"792.993\">0.0</text>\n",
       "</g>\n",
       "<g clip-path=\"url(#clip7001)\">\n",
       "<text style=\"fill:#000000; fill-opacity:1; font-family:Arial,Helvetica Neue,Helvetica,sans-serif; font-size:48px; text-anchor:end;\" transform=\"rotate(0, 165.504, 449.475)\" x=\"165.504\" y=\"449.475\">0.5</text>\n",
       "</g>\n",
       "<g clip-path=\"url(#clip7001)\">\n",
       "<text style=\"fill:#000000; fill-opacity:1; font-family:Arial,Helvetica Neue,Helvetica,sans-serif; font-size:48px; text-anchor:end;\" transform=\"rotate(0, 165.504, 105.958)\" x=\"165.504\" y=\"105.958\">1.0</text>\n",
       "</g>\n",
       "<polyline clip-path=\"url(#clip7003)\" style=\"stroke:#009af9; stroke-width:4; stroke-opacity:1; fill:none\" points=\"\n",
       "  249.837,197.373 253.014,140.571 256.191,110.101 259.368,95.9215 262.545,90.4356 265.722,88.8047 268.899,88.4866 272.076,88.4585 275.253,88.4582 278.431,88.4591 \n",
       "  281.608,88.505 284.785,88.9403 287.962,90.985 291.139,97.5147 294.316,113.811 297.493,147.93 300.67,210.206 303.847,311.35 307.024,458.852 310.201,652.116 \n",
       "  313.378,877.9 316.555,1108.7 319.733,1306.53 322.91,1432.48 326.087,1459.14 329.264,1380.47 332.441,1214.07 335.618,994.632 338.795,762.089 341.972,550.04 \n",
       "  345.149,378.93 348.326,255.21 351.503,174.785 354.68,127.999 357.857,103.986 361.035,93.4158 364.212,89.6281 367.389,88.6264 370.566,88.4672 373.743,88.4582 \n",
       "  376.92,88.4582 380.097,88.4629 383.274,88.5718 386.451,89.3441 389.628,92.4619 392.805,101.531 395.982,122.751 399.159,165.053 402.337,239.191 405.514,355.283 \n",
       "  408.691,518.687 411.868,725.003 415.045,956.18 418.222,1180.48 421.399,1358.31 424.576,1453.23 427.753,1444.16 430.93,1333.18 434.107,1144.67 437.284,916.519 \n",
       "  440.462,687.655 443.639,487.735 446.816,332.359 449.993,223.937 453.17,155.96 456.347,117.953 459.524,99.3473 462.701,91.6443 465.878,89.1143 469.055,88.5319 \n",
       "  472.232,88.4604 475.409,88.4582 478.586,88.4583 481.764,88.4748 484.941,88.7035 488.118,89.9938 491.295,94.581 494.472,106.88 497.649,134.028 500.826,185.733 \n",
       "  504.003,272.897 507.18,404.578 510.357,583.428 513.534,800.784 516.711,1033.76 519.888,1247.05 523.066,1400.71 526.243,1462.17 529.42,1417.62 532.597,1277.11 \n",
       "  535.774,1070.84 538.951,838.41 542.128,616.574 545.305,430.515 548.482,291.103 551.659,197.21 554.836,140.478 558.013,110.055 561.19,95.902 564.368,90.429 \n",
       "  567.545,88.8031 570.722,88.4864 573.899,88.4585 577.076,88.4582 580.253,88.4591 583.43,88.5053 586.607,88.9423 589.784,90.9931 592.961,97.5376 596.138,113.863 \n",
       "  599.315,148.033 602.492,210.384 605.67,311.624 608.847,459.233 612.024,652.589 615.201,878.419 618.378,1109.19 621.555,1306.91 624.732,1432.65 627.909,1459.07 \n",
       "  631.086,1380.19 634.263,1213.63 637.44,994.116 640.617,761.585 643.794,549.61 646.972,378.602 650.149,254.987 653.326,174.648 656.503,127.924 659.68,103.95 \n",
       "  662.857,93.4018 666.034,89.6238 669.211,88.6255 672.388,88.4671 675.565,88.4582 678.742,88.4582 681.919,88.4629 685.097,88.5724 688.274,89.3475 691.451,92.4737 \n",
       "  694.628,101.562 697.805,122.818 700.982,165.179 704.159,239.4 707.336,355.593 710.513,519.101 713.69,725.498 716.867,956.7 720.044,1180.95 723.221,1358.63 \n",
       "  726.399,1453.32 729.576,1444.02 732.753,1332.83 735.93,1144.19 739.107,915.998 742.284,687.17 745.461,487.338 748.638,332.067 751.815,223.745 754.992,155.846 \n",
       "  758.169,117.894 761.346,99.3208 764.523,91.6346 767.701,89.1117 770.878,88.5315 774.055,88.4603 777.232,88.4582 780.409,88.4583 783.586,88.4749 786.763,88.7047 \n",
       "  789.94,89.9991 793.117,94.5977 796.294,106.921 799.471,134.111 802.648,185.883 805.825,273.138 809.003,404.924 812.18,583.873 815.357,801.296 818.534,1034.27 \n",
       "  821.711,1247.48 824.888,1400.96 828.065,1462.19 831.242,1417.4 834.419,1276.71 837.596,1070.34 840.773,837.893 843.95,616.114 847.127,430.152 850.305,290.846 \n",
       "  853.482,197.046 856.659,140.386 859.836,110.009 863.013,95.8825 866.19,90.4224 869.367,88.8016 872.544,88.4862 875.721,88.4585 878.898,88.4582 882.075,88.4591 \n",
       "  885.252,88.5056 888.429,88.9444 891.607,91.0012 894.784,97.5606 897.961,113.916 901.138,148.136 904.315,210.562 907.492,311.899 910.669,459.614 913.846,653.062 \n",
       "  917.023,878.939 920.2,1109.69 923.377,1307.28 926.554,1432.83 929.731,1459.01 932.909,1379.91 936.086,1213.19 939.263,993.6 942.44,761.081 945.617,549.18 \n",
       "  948.794,378.275 951.971,254.763 955.148,174.511 958.325,127.849 961.502,103.915 964.679,93.3879 967.856,89.6195 971.034,88.6247 974.211,88.4671 977.388,88.4582 \n",
       "  980.565,88.4582 983.742,88.4629 986.919,88.573 990.096,89.351 993.273,92.4855 996.45,101.593 999.627,122.885 1002.8,165.304 1005.98,239.608 1009.16,355.903 \n",
       "  1012.34,519.516 1015.51,725.993 1018.69,957.219 1021.87,1181.41 1025.04,1358.94 1028.22,1453.42 1031.4,1443.88 1034.58,1332.49 1037.75,1143.72 1040.93,915.478 \n",
       "  1044.11,686.686 1047.28,486.941 1050.46,331.776 1053.64,223.553 1056.81,155.733 1059.99,117.835 1063.17,99.2943 1066.35,91.6248 1069.52,89.1091 1072.7,88.531 \n",
       "  1075.88,88.4603 1079.05,88.4582 1082.23,88.4583 1085.41,88.475 1088.59,88.7059 1091.76,90.0045 1094.94,94.6144 1098.12,106.961 1101.29,134.195 1104.47,186.034 \n",
       "  1107.65,273.379 1110.82,405.27 1114,584.319 1117.18,801.807 1120.36,1034.78 1123.53,1247.9 1126.71,1401.2 1129.89,1462.21 1133.06,1417.19 1136.24,1276.32 \n",
       "  1139.42,1069.84 1142.6,837.377 1145.77,615.655 1148.95,429.79 1152.13,290.59 1155.3,196.883 1158.48,140.293 1161.66,109.963 1164.84,95.8631 1168.01,90.4159 \n",
       "  1171.19,88.8 1174.37,88.486 1177.54,88.4585 1180.72,88.4582 1183.9,88.4591 1187.07,88.5059 1190.25,88.9465 1193.43,91.0093 1196.61,97.5836 1199.78,113.969 \n",
       "  1202.96,148.239 1206.14,210.74 1209.31,312.174 1212.49,459.995 1215.67,653.535 1218.85,879.459 1222.02,1110.18 1225.2,1307.65 1228.38,1433 1231.55,1458.95 \n",
       "  1234.73,1379.62 1237.91,1212.74 1241.09,993.084 1244.26,760.578 1247.44,548.75 1250.62,377.949 1253.79,254.54 1256.97,174.375 1260.15,127.775 1263.32,103.88 \n",
       "  1266.5,93.3739 1269.68,89.6153 1272.86,88.6238 1276.03,88.467 1279.21,88.4582 1282.39,88.4582 1285.56,88.463 1288.74,88.5737 1291.92,89.3544 1295.1,92.4973 \n",
       "  1298.27,101.624 1301.45,122.952 1304.63,165.43 1307.8,239.816 1310.98,356.213 1314.16,519.931 1317.34,726.489 1320.51,957.739 1323.69,1181.87 1326.87,1359.26 \n",
       "  1330.04,1453.52 1333.22,1443.74 1336.4,1332.14 1339.57,1143.24 1342.75,914.957 1345.93,686.202 1349.11,486.544 1352.28,331.485 1355.46,223.361 1358.64,155.62 \n",
       "  1361.81,117.776 1364.99,99.2678 1368.17,91.6152 1371.35,89.1064 1374.52,88.5306 1377.7,88.4603 1380.88,88.4582 1384.05,88.4583 1387.23,88.4752 1390.41,88.7071 \n",
       "  1393.58,90.0099 1396.76,94.6311 1399.94,107.002 1403.12,134.279 1406.29,186.184 1409.47,273.62 1412.65,405.616 1415.82,584.765 1419,802.318 1422.18,1035.29 \n",
       "  1425.36,1248.32 1428.53,1401.45 1431.71,1462.23 1434.89,1416.97 1438.06,1275.92 1441.24,1069.33 1444.42,836.861 1447.6,615.196 1450.77,429.428 1453.95,290.333 \n",
       "  1457.13,196.72 1460.3,140.201 1463.48,109.917 1466.66,95.8437 1469.83,90.4094 1473.01,88.7985 1476.19,88.4858 1479.37,88.4585 1482.54,88.4582 1485.72,88.4592 \n",
       "  1488.9,88.5062 1492.07,88.9486 1495.25,91.0174 1498.43,97.6066 1501.61,114.022 1504.78,148.343 1507.96,210.918 1511.14,312.449 1514.31,460.377 1517.49,654.008 \n",
       "  1520.67,879.978 1523.85,1110.67 1527.02,1308.02 1530.2,1433.18 1533.38,1458.89 1536.55,1379.34 1539.73,1212.3 1542.91,992.567 1546.08,760.074 1549.26,548.32 \n",
       "  1552.44,377.622 1555.62,254.317 1558.79,174.238 1561.97,127.701 1565.15,103.844 1568.32,93.36 1571.5,89.6111 1574.68,88.623 1577.86,88.4669 1581.03,88.4582 \n",
       "  1584.21,88.4582 1587.39,88.463 1590.56,88.5743 1593.74,89.3578 1596.92,92.5091 1600.09,101.655 1603.27,123.019 1606.45,165.555 1609.63,240.025 1612.8,356.524 \n",
       "  1615.98,520.346 1619.16,726.984 1622.33,958.258 1625.51,1182.33 1628.69,1359.57 1631.87,1453.62 1635.04,1443.6 1638.22,1331.79 1641.4,1142.76 1644.57,914.436 \n",
       "  1647.75,685.718 1650.93,486.147 1654.11,331.194 1657.28,223.17 1660.46,155.507 1663.64,117.717 1666.81,99.2414 1669.99,91.6055 1673.17,89.1038 1676.34,88.5302 \n",
       "  1679.52,88.4603 1682.7,88.4582 1685.88,88.4583 1689.05,88.4753 1692.23,88.7083 1695.41,90.0153 1698.58,94.6479 1701.76,107.043 1704.94,134.363 1708.12,186.335 \n",
       "  1711.29,273.861 1714.47,405.962 1717.65,585.212 1720.82,802.829 1724,1035.8 1727.18,1248.74 1730.36,1401.7 1733.53,1462.24 1736.71,1416.76 1739.89,1275.52 \n",
       "  1743.06,1068.83 1746.24,836.345 1749.42,614.737 1752.59,429.066 1755.77,290.077 1758.95,196.558 1762.13,140.108 1765.3,109.871 1768.48,95.8243 1771.66,90.4029 \n",
       "  1774.83,88.7969 1778.01,88.4856 1781.19,88.4585 1784.37,88.4582 1787.54,88.4592 1790.72,88.5065 1793.9,88.9506 1797.07,91.0256 1800.25,97.6297 1803.43,114.074 \n",
       "  1806.6,148.446 1809.78,211.097 1812.96,312.724 1816.14,460.758 1819.31,654.482 1822.49,880.498 1825.67,1111.16 1828.84,1308.39 1832.02,1433.35 1835.2,1458.83 \n",
       "  1838.38,1379.06 1841.55,1211.85 1844.73,992.051 1847.91,759.571 1851.08,547.891 1854.26,377.296 1857.44,254.094 1860.62,174.102 1863.79,127.626 1866.97,103.809 \n",
       "  1870.15,93.3462 1873.32,89.6068 1876.5,88.6221 1879.68,88.4668 1882.85,88.4582 1886.03,88.4582 1889.21,88.4631 1892.39,88.5749 1895.56,89.3613 1898.74,92.521 \n",
       "  1901.92,101.686 1905.09,123.086 1908.27,165.681 1911.45,240.234 1914.63,356.835 1917.8,520.762 1920.98,727.48 1924.16,958.777 1927.33,1182.79 1930.51,1359.88 \n",
       "  1933.69,1453.71 1936.87,1443.46 1940.04,1331.45 1943.22,1142.28 1946.4,913.916 1949.57,685.234 1952.75,485.751 1955.93,330.903 1959.1,222.978 1962.28,155.394 \n",
       "  1965.46,117.658 1968.64,99.2151 1971.81,91.5959 1974.99,89.1012 1978.17,88.5298 1981.34,88.4602 1984.52,88.4582 1987.7,88.4583 1990.88,88.4754 1994.05,88.7094 \n",
       "  1997.23,90.0207 2000.41,94.6647 2003.58,107.084 2006.76,134.447 2009.94,186.486 2013.12,274.102 2016.29,406.309 2019.47,585.658 2022.65,803.341 2025.82,1036.31 \n",
       "  2029,1249.16 2032.18,1401.94 2035.35,1462.26 2038.53,1416.54 2041.71,1275.12 2044.89,1068.33 2048.06,835.829 2051.24,614.279 2054.42,428.704 2057.59,289.821 \n",
       "  2060.77,196.395 2063.95,140.016 2067.13,109.825 2070.3,95.805 2073.48,90.3964 2076.66,88.7954 2079.83,88.4854 2083.01,88.4585 2086.19,88.4582 2089.36,88.4592 \n",
       "  2092.54,88.5068 2095.72,88.9527 2098.9,91.0337 2102.07,97.6528 2105.25,114.127 2108.43,148.55 2111.6,211.276 2114.78,313 2117.96,461.14 2121.14,654.956 \n",
       "  2124.31,881.018 2127.49,1111.65 2130.67,1308.76 2133.84,1433.52 2137.02,1458.77 2140.2,1378.77 2143.38,1211.41 2146.55,991.534 2149.73,759.068 2152.91,547.462 \n",
       "  2156.08,376.97 2159.26,253.872 2162.44,173.965 2165.61,127.552 2168.79,103.774 2171.97,93.3324 2175.15,89.6026 2178.32,88.6213 2181.5,88.4668 2184.68,88.4582 \n",
       "  2187.85,88.4582 2191.03,88.4631 2194.21,88.5756 2197.39,89.3647 2200.56,92.5329 2203.74,101.717 2206.92,123.154 2210.09,165.807 2213.27,240.443 2216.45,357.146 \n",
       "  2219.63,521.177 2222.8,727.976 2225.98,959.297 2229.16,1183.25 2232.33,1360.19 2235.51,1453.81 2238.69,1443.32 2241.86,1331.1 2245.04,1141.8 2248.22,913.395 \n",
       "  2251.4,684.75 2254.57,485.354 2257.75,330.613 2260.93,222.787 \n",
       "  \"/>\n",
       "<polygon clip-path=\"url(#clip7001)\" points=\"\n",
       "1958.43,251.724 2249.26,251.724 2249.26,130.764 1958.43,130.764 \n",
       "  \" fill=\"#ffffff\" fill-rule=\"evenodd\" fill-opacity=\"1\"/>\n",
       "<polyline clip-path=\"url(#clip7001)\" style=\"stroke:#000000; stroke-width:4; stroke-opacity:1; fill:none\" points=\"\n",
       "  1958.43,251.724 2249.26,251.724 2249.26,130.764 1958.43,130.764 1958.43,251.724 \n",
       "  \"/>\n",
       "<polyline clip-path=\"url(#clip7001)\" style=\"stroke:#009af9; stroke-width:4; stroke-opacity:1; fill:none\" points=\"\n",
       "  1982.43,191.244 2126.43,191.244 \n",
       "  \"/>\n",
       "<g clip-path=\"url(#clip7001)\">\n",
       "<text style=\"fill:#000000; fill-opacity:1; font-family:Arial,Helvetica Neue,Helvetica,sans-serif; font-size:48px; text-anchor:start;\" transform=\"rotate(0, 2150.43, 208.744)\" x=\"2150.43\" y=\"208.744\">y1</text>\n",
       "</g>\n",
       "</svg>\n"
      ]
     },
     "execution_count": 18,
     "metadata": {},
     "output_type": "execute_result"
    }
   ],
   "source": [
    "plot(times,signals)"
   ]
  },
  {
   "cell_type": "markdown",
   "metadata": {},
   "source": [
    "### Plot the periodogram."
   ]
  },
  {
   "cell_type": "code",
   "execution_count": null,
   "metadata": {},
   "outputs": [],
   "source": [
    "%--------------\n",
    "%Length of data \n",
    "dataLen = timeVec(end)-timeVec(1);\n",
    "%DFT sample corresponding to Nyquist frequency\n",
    "kNyq = floor(nSamples/2)+1;\n",
    "% Positive Fourier frequencies\n",
    "posFreq = (0:(kNyq-1))*(1/dataLen);\n",
    "% FFT of signal\n",
    "fftSig = fft(sigVec);\n",
    "% Discard negative frequencies\n",
    "fftSig = fftSig(1:kNyq);\n",
    "\n",
    "%Plot periodogram\n",
    "figure;\n",
    "plot(posFreq,abs(fftSig));"
   ]
  }
 ],
 "metadata": {
  "kernelspec": {
   "display_name": "Julia 1.0.3",
   "language": "julia",
   "name": "julia-1.0"
  },
  "language_info": {
   "file_extension": ".jl",
   "mimetype": "application/julia",
   "name": "julia",
   "version": "1.0.3"
  }
 },
 "nbformat": 4,
 "nbformat_minor": 2
}
