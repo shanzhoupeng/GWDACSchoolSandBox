{
 "cells": [
  {
   "cell_type": "code",
   "execution_count": null,
   "metadata": {},
   "outputs": [],
   "source": [
    "using DSP\n",
    "using Plots\n",
    "\n",
    "bpass = remez(35, [(0, 0.1)=>0, (0.15, 0.4)=>1, (0.45, 0.5)=>0]);\n",
    "bpass2 = remez(35, [(0, 0.08)=>0, (0.15, 0.4)=>1, (0.47, 0.5)=>0]);\n",
    "\n",
    "b = DSP.Filters.PolynomialRatio(bpass, [1.0])\n",
    "b2 = DSP.Filters.PolynomialRatio(bpass2, [1.0])\n",
    "\n",
    "f = range(0, stop=0.5, length=1000)\n",
    "\n",
    "plot(f, 20*log10.(abs.(freqz(b,f,1.0))))\n",
    "\n",
    "plot!(f, 20*log10.(abs.(freqz(b2,f,1.0))))"
   ]
  },
  {
   "cell_type": "code",
   "execution_count": null,
   "metadata": {},
   "outputs": [],
   "source": []
  }
 ],
 "metadata": {
  "kernelspec": {
   "display_name": "Julia 1.0.3",
   "language": "julia",
   "name": "julia-1.0"
  },
  "language_info": {
   "file_extension": ".jl",
   "mimetype": "application/julia",
   "name": "julia",
   "version": "1.0.3"
  }
 },
 "nbformat": 4,
 "nbformat_minor": 2
}
