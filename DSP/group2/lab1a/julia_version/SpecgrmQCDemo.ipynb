{
 "cells": [
  {
   "cell_type": "markdown",
   "metadata": {},
   "source": [
    "# Define the sinusoid signal and plot it.\n",
    "\n",
    "#### Zu-Cheng Chen, Feb 2019"
   ]
  },
  {
   "cell_type": "code",
   "execution_count": 49,
   "metadata": {},
   "outputs": [],
   "source": [
    "# load packages\n",
    "using PyPlot, WAV\n",
    "using Plots\n",
    "using FFTW\n",
    "using DSP\n",
    "import LinearAlgebra:norm"
   ]
  },
  {
   "cell_type": "code",
   "execution_count": 50,
   "metadata": {},
   "outputs": [
    {
     "name": "stdout",
     "output_type": "stream",
     "text": [
      "search: \u001b[0m\u001b[1mf\u001b[22m\u001b[0m\u001b[1mi\u001b[22m\u001b[0m\u001b[1mr\u001b[22m\u001b[0m\u001b[1mf\u001b[22m\u001b[0m\u001b[1mi\u001b[22m\u001b[0m\u001b[1ml\u001b[22m\u001b[0m\u001b[1mt\u001b[22m \u001b[0m\u001b[1mF\u001b[22m\u001b[0m\u001b[1mI\u001b[22m\u001b[0m\u001b[1mR\u001b[22m\u001b[0m\u001b[1mF\u001b[22m\u001b[0m\u001b[1mi\u001b[22m\u001b[0m\u001b[1ml\u001b[22m\u001b[0m\u001b[1mt\u001b[22mer \u001b[0m\u001b[1mF\u001b[22m\u001b[0m\u001b[1mi\u001b[22mlte\u001b[0m\u001b[1mr\u001b[22mCoe\u001b[0m\u001b[1mf\u001b[22mf\u001b[0m\u001b[1mi\u001b[22mcients \u001b[0m\u001b[1mf\u001b[22m\u001b[0m\u001b[1mi\u001b[22mlte\u001b[0m\u001b[1mr\u001b[22m_type_di\u001b[0m\u001b[1mf\u001b[22mferent\u001b[0m\u001b[1mi\u001b[22mator\n",
      "\n"
     ]
    },
    {
     "data": {
      "text/latex": [
       "No documentation found.\n",
       "\n",
       "\\texttt{DSP.firfilt} is a \\texttt{Function}.\n",
       "\n",
       "\\begin{verbatim}\n",
       "# 1 method for generic function \"firfilt\":\n",
       "[1] firfilt(h, x) in DSP at deprecated.jl:53\n",
       "\\end{verbatim}\n"
      ],
      "text/markdown": [
       "No documentation found.\n",
       "\n",
       "`DSP.firfilt` is a `Function`.\n",
       "\n",
       "```\n",
       "# 1 method for generic function \"firfilt\":\n",
       "[1] firfilt(h, x) in DSP at deprecated.jl:53\n",
       "```\n"
      ],
      "text/plain": [
       "  No documentation found.\n",
       "\n",
       "  \u001b[36mDSP.firfilt\u001b[39m is a \u001b[36mFunction\u001b[39m.\n",
       "\n",
       "\u001b[36m  # 1 method for generic function \"firfilt\":\u001b[39m\n",
       "\u001b[36m  [1] firfilt(h, x) in DSP at deprecated.jl:53\u001b[39m"
      ]
     },
     "execution_count": 50,
     "metadata": {},
     "output_type": "execute_result"
    }
   ],
   "source": [
    "?firfilt"
   ]
  },
  {
   "cell_type": "markdown",
   "metadata": {},
   "source": [
    "## Define the sinusoid signal.\n",
    "The signal is  by\n",
    "$$\n",
    "s(t) = A \\sin(2\\pi \\phi(t)),\n",
    "$$\n",
    "where $A$ is the $snr$, and the phase is given by\n",
    "$$\n",
    "\\phi(t) = a_1 t + a_2 t^2 + a_3 t^3.\n",
    "$$"
   ]
  },
  {
   "cell_type": "code",
   "execution_count": 14,
   "metadata": {},
   "outputs": [
    {
     "data": {
      "text/plain": [
       "(-1.0, [-0.209529, -0.977802])"
      ]
     },
     "execution_count": 14,
     "metadata": {},
     "output_type": "execute_result"
    }
   ],
   "source": [
    "\"\"\"\n",
    "Generate a quadratic chirp signal\n",
    "S = CRCBGENQSIG(X,SNR,C)\n",
    "Generates a quadratic chirp signal S. X is the vector of\n",
    "time stamps at which the samples of the signal are to be computed. SNR is\n",
    "the matched filtering signal-to-noise ratio of S and C is the vector of\n",
    "three coefficients [a1, a2, a3] that parametrize the phase of the signal:\n",
    "a1*t+a2*t^2+a3*t^3. \n",
    "\"\"\"\n",
    "function crcbgenqcsig(dataX, snr::Real, qcCoefs::Array)\n",
    "    phaseVec = qcCoefs[1]*dataX + qcCoefs[2]*dataX.^2 + qcCoefs[3]*dataX.^3;\n",
    "    sigVec = sin.(2π*phaseVec)\n",
    "    sigVec = snr*sigVec/norm(sigVec)\n",
    "end\n",
    "\n",
    "# test the function\n",
    "crcbgenqcsig(1, 1, [1, 1, 1]), crcbgenqcsig([1,2], 1, [1, 1, 1])"
   ]
  },
  {
   "cell_type": "code",
   "execution_count": 13,
   "metadata": {},
   "outputs": [
    {
     "name": "stdout",
     "output_type": "stream",
     "text": [
      "search: \u001b[0m\u001b[1mc\u001b[22m\u001b[0m\u001b[1mr\u001b[22m\u001b[0m\u001b[1mc\u001b[22m\u001b[0m\u001b[1mb\u001b[22m\u001b[0m\u001b[1mg\u001b[22m\u001b[0m\u001b[1me\u001b[22m\u001b[0m\u001b[1mn\u001b[22m\u001b[0m\u001b[1mq\u001b[22m\u001b[0m\u001b[1mc\u001b[22m\u001b[0m\u001b[1ms\u001b[22m\u001b[0m\u001b[1mi\u001b[22m\u001b[0m\u001b[1mg\u001b[22m\n",
      "\n"
     ]
    },
    {
     "data": {
      "text/latex": [
       "SinSig(dataT, snr, f0, f1, ϕ0) generates a sinusoid signal S.  dataT is the vector of time stamps at which the samples  of the signal are to be computed.  snr is the matched filtering signal-to-noise ratio of S,  and [f0, ϕ0] are coefficients that parametrize the phase of the signal:  2π\\emph{f0}dataT + ϕ0.\n",
       "\n",
       "\\rule{\\textwidth}{1pt}\n",
       "SinSig(dataT, snr, f0, f1, ϕ0) generates a sinusoid signal S.  dataT is the vector of time stamps at which the samples  of the signal are to be computed.  snr is the matched filtering signal-to-noise ratio of S,  and [f0, ϕ0] are coefficients that parametrize the phase of the signal:  2π\\emph{f0}dataT + ϕ0.\n",
       "\n"
      ],
      "text/markdown": [
       "SinSig(dataT, snr, f0, f1, ϕ0) generates a sinusoid signal S.  dataT is the vector of time stamps at which the samples  of the signal are to be computed.  snr is the matched filtering signal-to-noise ratio of S,  and [f0, ϕ0] are coefficients that parametrize the phase of the signal:  2π*f0*dataT + ϕ0.\n",
       "\n",
       "---\n",
       "\n",
       "SinSig(dataT, snr, f0, f1, ϕ0) generates a sinusoid signal S.  dataT is the vector of time stamps at which the samples  of the signal are to be computed.  snr is the matched filtering signal-to-noise ratio of S,  and [f0, ϕ0] are coefficients that parametrize the phase of the signal:  2π*f0*dataT + ϕ0.\n"
      ],
      "text/plain": [
       "  SinSig(dataT, snr, f0, f1, ϕ0) generates a sinusoid signal S. dataT is the\n",
       "  vector of time stamps at which the samples of the signal are to be computed.\n",
       "  snr is the matched filtering signal-to-noise ratio of S, and [f0, ϕ0] are\n",
       "  coefficients that parametrize the phase of the signal: 2π\u001b[4mf0\u001b[24mdataT + ϕ0.\n",
       "\n",
       "  ────────────────────────────────────────────────────────────────────────────\n",
       "\n",
       "  SinSig(dataT, snr, f0, f1, ϕ0) generates a sinusoid signal S. dataT is the\n",
       "  vector of time stamps at which the samples of the signal are to be computed.\n",
       "  snr is the matched filtering signal-to-noise ratio of S, and [f0, ϕ0] are\n",
       "  coefficients that parametrize the phase of the signal: 2π\u001b[4mf0\u001b[24mdataT + ϕ0."
      ]
     },
     "execution_count": 13,
     "metadata": {},
     "output_type": "execute_result"
    }
   ],
   "source": [
    "?crcbgenqcsig"
   ]
  },
  {
   "cell_type": "markdown",
   "metadata": {},
   "source": [
    "## Spectrogram demo"
   ]
  },
  {
   "cell_type": "code",
   "execution_count": 18,
   "metadata": {},
   "outputs": [],
   "source": [
    "sampFreq = 1024;\n",
    "nSamples = 2048;\n",
    "timeVec = (0:(nSamples-1))/sampFreq;\n",
    "timeVec = collect(timeVec);"
   ]
  },
  {
   "cell_type": "code",
   "execution_count": 20,
   "metadata": {},
   "outputs": [],
   "source": [
    "# Quadratic chirp signal\n",
    "# Signal parameters\n",
    "a1=10;\n",
    "a2=3;\n",
    "a3=10;\n",
    "A = 10;"
   ]
  },
  {
   "cell_type": "code",
   "execution_count": 21,
   "metadata": {},
   "outputs": [],
   "source": [
    "# Generate signal\n",
    "sigVec = crcbgenqcsig(timeVec,A,[a1,a2,a3]);"
   ]
  },
  {
   "cell_type": "code",
   "execution_count": 33,
   "metadata": {},
   "outputs": [
    {
     "data": {
      "text/plain": [
       "DSP.Periodograms.Spectrogram{Float64,Frequencies}([0.000344835 0.000374765 … 7.29438e-7 7.50574e-8; 0.00477264 0.00490573 … 1.47953e-6 1.62934e-7; … ; 3.42716e-7 2.81863e-7 … 5.94165e-7 6.80877e-7; 1.71254e-7 1.40846e-7 … 2.96819e-7 3.40153e-7], [0.0, 8.0, 16.0, 24.0, 32.0, 40.0, 48.0, 56.0, 64.0, 72.0  …  440.0, 448.0, 456.0, 464.0, 472.0, 480.0, 488.0, 496.0, 504.0, 512.0], 0.0625:0.0009765625:1.9375)"
      ]
     },
     "execution_count": 33,
     "metadata": {},
     "output_type": "execute_result"
    }
   ],
   "source": [
    "# Make spectrogram with different time-frequency resolution\n",
    "S = spectrogram(sigVec, 128, 127; fs=sampFreq)"
   ]
  },
  {
   "cell_type": "code",
   "execution_count": 38,
   "metadata": {},
   "outputs": [],
   "source": [
    "t = time(S);\n",
    "f = freq(S);"
   ]
  },
  {
   "cell_type": "code",
   "execution_count": 48,
   "metadata": {},
   "outputs": [
    {
     "ename": "UndefVarError",
     "evalue": "UndefVarError: flipud not defined",
     "output_type": "error",
     "traceback": [
      "UndefVarError: flipud not defined",
      "",
      "Stacktrace:",
      " [1] top-level scope at In[48]:1"
     ]
    }
   ],
   "source": [
    "flipud(log10.(power(S)))"
   ]
  },
  {
   "cell_type": "code",
   "execution_count": 44,
   "metadata": {},
   "outputs": [
    {
     "ename": "UndefVarError",
     "evalue": "UndefVarError: flipud not defined",
     "output_type": "error",
     "traceback": [
      "UndefVarError: flipud not defined",
      "",
      "Stacktrace:",
      " [1] top-level scope at In[44]:1"
     ]
    }
   ],
   "source": [
    "imshow(flipud(log10.(power(S))), extent=[first(t), last(t), fs*first(f), fs*last(f)], aspect=\"auto\")"
   ]
  },
  {
   "cell_type": "code",
   "execution_count": null,
   "metadata": {},
   "outputs": [],
   "source": [
    "fi"
   ]
  },
  {
   "cell_type": "code",
   "execution_count": null,
   "metadata": {},
   "outputs": [],
   "source": [
    "figure;\n",
    "spectrogram(sigVec, 256,250,[],sampFreq);\n",
    "\n",
    "%%\n",
    "% Make plots independently of the spectrogram function\n",
    "[S,F,T]=spectrogram(sigVec, 256,250,[],sampFreq);\n",
    "figure;\n",
    "imagesc(T,F,abs(S));axis xy;\n",
    "xlabel('Time (sec)');\n",
    "ylabel('Frequency (Hz)');"
   ]
  }
 ],
 "metadata": {
  "kernelspec": {
   "display_name": "Julia 1.0.3",
   "language": "julia",
   "name": "julia-1.0"
  },
  "language_info": {
   "file_extension": ".jl",
   "mimetype": "application/julia",
   "name": "julia",
   "version": "1.0.3"
  }
 },
 "nbformat": 4,
 "nbformat_minor": 2
}
