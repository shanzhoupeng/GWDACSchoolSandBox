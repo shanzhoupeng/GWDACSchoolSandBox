{
 "cells": [
  {
   "cell_type": "markdown",
   "metadata": {},
   "source": [
    "# Define the sinusoid signal and plot it.\n",
    "\n",
    "#### Zu-Cheng Chen, Feb 2019"
   ]
  },
  {
   "cell_type": "code",
   "execution_count": 2,
   "metadata": {},
   "outputs": [],
   "source": [
    "# load packages\n",
    "using WAV\n",
    "using Plots\n",
    "gr()\n",
    "using FFTW\n",
    "using DSP\n",
    "import LinearAlgebra:norm"
   ]
  },
  {
   "cell_type": "code",
   "execution_count": null,
   "metadata": {},
   "outputs": [],
   "source": [
    "firfilt"
   ]
  },
  {
   "cell_type": "code",
   "execution_count": null,
   "metadata": {},
   "outputs": [],
   "source": [
    "function FIRfreqz(b::Array, w = range(0, stop=π, length=1024))\n",
    "    n = length(w)\n",
    "    h = Array{ComplexF32}(undef, n)\n",
    "    sw = 0\n",
    "    for i = 1:n\n",
    "      for j = 1:length(b)\n",
    "        sw += b[j]*exp(-im*w[i])^-j\n",
    "      end\n",
    "      h[i] = sw\n",
    "      sw = 0\n",
    "    end\n",
    "    return h\n",
    "end"
   ]
  },
  {
   "cell_type": "markdown",
   "metadata": {},
   "source": [
    "## Define the sinusoid signal.\n",
    "The signal is  by\n",
    "$$\n",
    "s(t) = A \\sin(2\\pi f_0 t + \\phi_0),\n",
    "$$\n",
    "where $A$ is the $snr$."
   ]
  },
  {
   "cell_type": "code",
   "execution_count": 2,
   "metadata": {},
   "outputs": [
    {
     "data": {
      "text/plain": [
       "(1.0, [0.707107, 0.707107])"
      ]
     },
     "execution_count": 2,
     "metadata": {},
     "output_type": "execute_result"
    }
   ],
   "source": [
    "\"\"\"\n",
    "SinSig(dataT, snr, f0, f1, ϕ0) generates a sinusoid signal S. \n",
    "dataT is the vector of time stamps at which the samples \n",
    "of the signal are to be computed. \n",
    "snr is the matched filtering signal-to-noise ratio of S, \n",
    "and [f0, ϕ0] are coefficients that parametrize the phase of the signal: \n",
    "2π*f0*dataT + ϕ0.\n",
    "\"\"\"\n",
    "function SinSig(dataT, snr::Real, f0::Real, ϕ0::Real)\n",
    "    phaseVec = 2π*f0*dataT .+ ϕ0\n",
    "    sigVec = sin.(phaseVec)\n",
    "    sigVec = snr*sigVec/norm(sigVec)\n",
    "end\n",
    "\n",
    "# test the function\n",
    "SinSig(1, 1, 1, 1), SinSig([1,2], 1, 1, 1)"
   ]
  },
  {
   "cell_type": "code",
   "execution_count": 3,
   "metadata": {},
   "outputs": [
    {
     "name": "stdout",
     "output_type": "stream",
     "text": [
      "search: \u001b[0m\u001b[1mS\u001b[22m\u001b[0m\u001b[1mi\u001b[22m\u001b[0m\u001b[1mn\u001b[22m\u001b[0m\u001b[1mS\u001b[22m\u001b[0m\u001b[1mi\u001b[22m\u001b[0m\u001b[1mg\u001b[22m \u001b[0m\u001b[1mS\u001b[22mubst\u001b[0m\u001b[1mi\u001b[22mtutio\u001b[0m\u001b[1mn\u001b[22m\u001b[0m\u001b[1mS\u001b[22mtr\u001b[0m\u001b[1mi\u001b[22mn\u001b[0m\u001b[1mg\u001b[22m\n",
      "\n"
     ]
    },
    {
     "data": {
      "text/latex": [
       "SinSig(dataT, snr, f0, f1, ϕ0) generates a sinusoid signal S.  dataT is the vector of time stamps at which the samples  of the signal are to be computed.  snr is the matched filtering signal-to-noise ratio of S,  and [f0, ϕ0] are coefficients that parametrize the phase of the signal:  2π\\emph{f0}dataT + ϕ0.\n",
       "\n"
      ],
      "text/markdown": [
       "SinSig(dataT, snr, f0, f1, ϕ0) generates a sinusoid signal S.  dataT is the vector of time stamps at which the samples  of the signal are to be computed.  snr is the matched filtering signal-to-noise ratio of S,  and [f0, ϕ0] are coefficients that parametrize the phase of the signal:  2π*f0*dataT + ϕ0.\n"
      ],
      "text/plain": [
       "  SinSig(dataT, snr, f0, f1, ϕ0) generates a sinusoid signal S. dataT is the\n",
       "  vector of time stamps at which the samples of the signal are to be computed.\n",
       "  snr is the matched filtering signal-to-noise ratio of S, and [f0, ϕ0] are\n",
       "  coefficients that parametrize the phase of the signal: 2π\u001b[4mf0\u001b[24mdataT + ϕ0."
      ]
     },
     "execution_count": 3,
     "metadata": {},
     "output_type": "execute_result"
    }
   ],
   "source": [
    "?SinSig"
   ]
  },
  {
   "cell_type": "markdown",
   "metadata": {},
   "source": [
    "## Plot the signal."
   ]
  },
  {
   "cell_type": "code",
   "execution_count": 4,
   "metadata": {},
   "outputs": [],
   "source": [
    "#Set signal parameters.\n",
    "snr = 10;\n",
    "f0 = 20;\n",
    "f1 = 20;\n",
    "ϕ0 = π;"
   ]
  },
  {
   "cell_type": "code",
   "execution_count": 5,
   "metadata": {},
   "outputs": [],
   "source": [
    "#Instantaneous frequency after 1 sec.\n",
    "maxFreq = 2π*f0 + ϕ0;\n",
    "samplFreq = 5*maxFreq;\n",
    "samplIntrvl = 1/samplFreq;"
   ]
  },
  {
   "cell_type": "code",
   "execution_count": 6,
   "metadata": {},
   "outputs": [],
   "source": [
    "#Time samples.\n",
    "times = collect(0:samplIntrvl:1.0);\n",
    "\n",
    "# Number of samples\n",
    "nSamples = length(times);\n",
    "\n",
    "# Generate the signal.\n",
    "signals = SinSig(times, snr, f0, ϕ0);"
   ]
  },
  {
   "cell_type": "markdown",
   "metadata": {},
   "source": [
    "### Plot the signal."
   ]
  },
  {
   "cell_type": "code",
   "execution_count": 3,
   "metadata": {},
   "outputs": [
    {
     "ename": "UndefVarError",
     "evalue": "UndefVarError: times not defined",
     "output_type": "error",
     "traceback": [
      "UndefVarError: times not defined",
      "",
      "Stacktrace:",
      " [1] top-level scope at In[3]:1"
     ]
    }
   ],
   "source": [
    "plot(times,signals)"
   ]
  },
  {
   "cell_type": "markdown",
   "metadata": {},
   "source": [
    "### Plot the periodogram."
   ]
  },
  {
   "cell_type": "code",
   "execution_count": 8,
   "metadata": {},
   "outputs": [],
   "source": [
    "# Length of data \n",
    "dataLen = times[end]-times[1]\n",
    "\n",
    "# DFT sample corresponding to Nyquist frequency\n",
    "kNyq = Int(floor(nSamples/2)+1)\n",
    "\n",
    "# Positive Fourier frequencies\n",
    "posFreq = (0:(kNyq-1))*(1/dataLen);\n",
    "\n",
    "# FFT of signal\n",
    "fftSig = fft(signals);\n",
    "\n",
    "# Discard negative frequencies\n",
    "fftSig = fftSig[1:kNyq];"
   ]
  },
  {
   "cell_type": "code",
   "execution_count": 9,
   "metadata": {},
   "outputs": [
    {
     "data": {
      "image/svg+xml": [
       "<?xml version=\"1.0\" encoding=\"utf-8\"?>\n",
       "<svg xmlns=\"http://www.w3.org/2000/svg\" xmlns:xlink=\"http://www.w3.org/1999/xlink\" width=\"600\" height=\"400\" viewBox=\"0 0 2400 1600\">\n",
       "<defs>\n",
       "  <clipPath id=\"clip0800\">\n",
       "    <rect x=\"0\" y=\"0\" width=\"2000\" height=\"2000\"/>\n",
       "  </clipPath>\n",
       "</defs>\n",
       "<defs>\n",
       "  <clipPath id=\"clip0801\">\n",
       "    <rect x=\"0\" y=\"0\" width=\"2400\" height=\"1600\"/>\n",
       "  </clipPath>\n",
       "</defs>\n",
       "<polygon clip-path=\"url(#clip0801)\" points=\"\n",
       "0,1600 2400,1600 2400,0 0,0 \n",
       "  \" fill=\"#ffffff\" fill-rule=\"evenodd\" fill-opacity=\"1\"/>\n",
       "<defs>\n",
       "  <clipPath id=\"clip0802\">\n",
       "    <rect x=\"480\" y=\"0\" width=\"1681\" height=\"1600\"/>\n",
       "  </clipPath>\n",
       "</defs>\n",
       "<polygon clip-path=\"url(#clip0801)\" points=\"\n",
       "174.775,1503.47 2321.26,1503.47 2321.26,47.2441 174.775,47.2441 \n",
       "  \" fill=\"#ffffff\" fill-rule=\"evenodd\" fill-opacity=\"1\"/>\n",
       "<defs>\n",
       "  <clipPath id=\"clip0803\">\n",
       "    <rect x=\"174\" y=\"47\" width=\"2147\" height=\"1457\"/>\n",
       "  </clipPath>\n",
       "</defs>\n",
       "<polyline clip-path=\"url(#clip0803)\" style=\"stroke:#000000; stroke-width:2; stroke-opacity:0.1; fill:none\" points=\"\n",
       "  235.525,1503.47 235.525,47.2441 \n",
       "  \"/>\n",
       "<polyline clip-path=\"url(#clip0803)\" style=\"stroke:#000000; stroke-width:2; stroke-opacity:0.1; fill:none\" points=\"\n",
       "  864.376,1503.47 864.376,47.2441 \n",
       "  \"/>\n",
       "<polyline clip-path=\"url(#clip0803)\" style=\"stroke:#000000; stroke-width:2; stroke-opacity:0.1; fill:none\" points=\"\n",
       "  1493.23,1503.47 1493.23,47.2441 \n",
       "  \"/>\n",
       "<polyline clip-path=\"url(#clip0803)\" style=\"stroke:#000000; stroke-width:2; stroke-opacity:0.1; fill:none\" points=\"\n",
       "  2122.08,1503.47 2122.08,47.2441 \n",
       "  \"/>\n",
       "<polyline clip-path=\"url(#clip0803)\" style=\"stroke:#000000; stroke-width:2; stroke-opacity:0.1; fill:none\" points=\"\n",
       "  174.775,1462.27 2321.26,1462.27 \n",
       "  \"/>\n",
       "<polyline clip-path=\"url(#clip0803)\" style=\"stroke:#000000; stroke-width:2; stroke-opacity:0.1; fill:none\" points=\"\n",
       "  174.775,1079.19 2321.26,1079.19 \n",
       "  \"/>\n",
       "<polyline clip-path=\"url(#clip0803)\" style=\"stroke:#000000; stroke-width:2; stroke-opacity:0.1; fill:none\" points=\"\n",
       "  174.775,696.114 2321.26,696.114 \n",
       "  \"/>\n",
       "<polyline clip-path=\"url(#clip0803)\" style=\"stroke:#000000; stroke-width:2; stroke-opacity:0.1; fill:none\" points=\"\n",
       "  174.775,313.035 2321.26,313.035 \n",
       "  \"/>\n",
       "<polyline clip-path=\"url(#clip0801)\" style=\"stroke:#000000; stroke-width:4; stroke-opacity:1; fill:none\" points=\"\n",
       "  174.775,1503.47 2321.26,1503.47 \n",
       "  \"/>\n",
       "<polyline clip-path=\"url(#clip0801)\" style=\"stroke:#000000; stroke-width:4; stroke-opacity:1; fill:none\" points=\"\n",
       "  174.775,1503.47 174.775,47.2441 \n",
       "  \"/>\n",
       "<polyline clip-path=\"url(#clip0801)\" style=\"stroke:#000000; stroke-width:4; stroke-opacity:1; fill:none\" points=\"\n",
       "  235.525,1503.47 235.525,1481.63 \n",
       "  \"/>\n",
       "<polyline clip-path=\"url(#clip0801)\" style=\"stroke:#000000; stroke-width:4; stroke-opacity:1; fill:none\" points=\"\n",
       "  864.376,1503.47 864.376,1481.63 \n",
       "  \"/>\n",
       "<polyline clip-path=\"url(#clip0801)\" style=\"stroke:#000000; stroke-width:4; stroke-opacity:1; fill:none\" points=\"\n",
       "  1493.23,1503.47 1493.23,1481.63 \n",
       "  \"/>\n",
       "<polyline clip-path=\"url(#clip0801)\" style=\"stroke:#000000; stroke-width:4; stroke-opacity:1; fill:none\" points=\"\n",
       "  2122.08,1503.47 2122.08,1481.63 \n",
       "  \"/>\n",
       "<polyline clip-path=\"url(#clip0801)\" style=\"stroke:#000000; stroke-width:4; stroke-opacity:1; fill:none\" points=\"\n",
       "  174.775,1462.27 206.972,1462.27 \n",
       "  \"/>\n",
       "<polyline clip-path=\"url(#clip0801)\" style=\"stroke:#000000; stroke-width:4; stroke-opacity:1; fill:none\" points=\"\n",
       "  174.775,1079.19 206.972,1079.19 \n",
       "  \"/>\n",
       "<polyline clip-path=\"url(#clip0801)\" style=\"stroke:#000000; stroke-width:4; stroke-opacity:1; fill:none\" points=\"\n",
       "  174.775,696.114 206.972,696.114 \n",
       "  \"/>\n",
       "<polyline clip-path=\"url(#clip0801)\" style=\"stroke:#000000; stroke-width:4; stroke-opacity:1; fill:none\" points=\"\n",
       "  174.775,313.035 206.972,313.035 \n",
       "  \"/>\n",
       "<g clip-path=\"url(#clip0801)\">\n",
       "<text style=\"fill:#000000; fill-opacity:1; font-family:Arial,Helvetica Neue,Helvetica,sans-serif; font-size:48px; text-anchor:middle;\" transform=\"rotate(0, 235.525, 1557.47)\" x=\"235.525\" y=\"1557.47\">0</text>\n",
       "</g>\n",
       "<g clip-path=\"url(#clip0801)\">\n",
       "<text style=\"fill:#000000; fill-opacity:1; font-family:Arial,Helvetica Neue,Helvetica,sans-serif; font-size:48px; text-anchor:middle;\" transform=\"rotate(0, 864.376, 1557.47)\" x=\"864.376\" y=\"1557.47\">100</text>\n",
       "</g>\n",
       "<g clip-path=\"url(#clip0801)\">\n",
       "<text style=\"fill:#000000; fill-opacity:1; font-family:Arial,Helvetica Neue,Helvetica,sans-serif; font-size:48px; text-anchor:middle;\" transform=\"rotate(0, 1493.23, 1557.47)\" x=\"1493.23\" y=\"1557.47\">200</text>\n",
       "</g>\n",
       "<g clip-path=\"url(#clip0801)\">\n",
       "<text style=\"fill:#000000; fill-opacity:1; font-family:Arial,Helvetica Neue,Helvetica,sans-serif; font-size:48px; text-anchor:middle;\" transform=\"rotate(0, 2122.08, 1557.47)\" x=\"2122.08\" y=\"1557.47\">300</text>\n",
       "</g>\n",
       "<g clip-path=\"url(#clip0801)\">\n",
       "<text style=\"fill:#000000; fill-opacity:1; font-family:Arial,Helvetica Neue,Helvetica,sans-serif; font-size:48px; text-anchor:end;\" transform=\"rotate(0, 150.775, 1479.77)\" x=\"150.775\" y=\"1479.77\">0</text>\n",
       "</g>\n",
       "<g clip-path=\"url(#clip0801)\">\n",
       "<text style=\"fill:#000000; fill-opacity:1; font-family:Arial,Helvetica Neue,Helvetica,sans-serif; font-size:48px; text-anchor:end;\" transform=\"rotate(0, 150.775, 1096.69)\" x=\"150.775\" y=\"1096.69\">50</text>\n",
       "</g>\n",
       "<g clip-path=\"url(#clip0801)\">\n",
       "<text style=\"fill:#000000; fill-opacity:1; font-family:Arial,Helvetica Neue,Helvetica,sans-serif; font-size:48px; text-anchor:end;\" transform=\"rotate(0, 150.775, 713.614)\" x=\"150.775\" y=\"713.614\">100</text>\n",
       "</g>\n",
       "<g clip-path=\"url(#clip0801)\">\n",
       "<text style=\"fill:#000000; fill-opacity:1; font-family:Arial,Helvetica Neue,Helvetica,sans-serif; font-size:48px; text-anchor:end;\" transform=\"rotate(0, 150.775, 330.535)\" x=\"150.775\" y=\"330.535\">150</text>\n",
       "</g>\n",
       "<polyline clip-path=\"url(#clip0803)\" style=\"stroke:#009af9; stroke-width:4; stroke-opacity:1; fill:none\" points=\"\n",
       "  235.525,1462.26 241.814,1462.06 248.102,1461.85 254.391,1461.64 260.68,1461.41 266.969,1461.17 273.257,1460.91 279.546,1460.62 285.835,1460.3 292.124,1459.94 \n",
       "  298.413,1459.51 304.701,1459.01 310.99,1458.4 317.279,1457.62 323.568,1456.6 329.856,1455.2 336.145,1453.12 342.434,1449.68 348.723,1442.9 355.011,1423 \n",
       "  361.3,88.4582 367.589,1418.39 373.878,1440.17 380.167,1447.3 386.455,1450.85 392.744,1452.98 399.033,1454.4 405.322,1455.42 411.61,1456.18 417.899,1456.78 \n",
       "  424.188,1457.26 430.477,1457.66 436.766,1457.99 443.054,1458.27 449.343,1458.52 455.632,1458.73 461.921,1458.91 468.209,1459.08 474.498,1459.23 480.787,1459.36 \n",
       "  487.076,1459.48 493.365,1459.59 499.653,1459.7 505.942,1459.79 512.231,1459.87 518.52,1459.95 524.808,1460.03 531.097,1460.09 537.386,1460.16 543.675,1460.22 \n",
       "  549.964,1460.27 556.252,1460.33 562.541,1460.38 568.83,1460.42 575.119,1460.47 581.407,1460.51 587.696,1460.55 593.985,1460.59 600.274,1460.62 606.562,1460.66 \n",
       "  612.851,1460.69 619.14,1460.72 625.429,1460.75 631.718,1460.78 638.006,1460.81 644.295,1460.84 650.584,1460.86 656.873,1460.89 663.161,1460.91 669.45,1460.93 \n",
       "  675.739,1460.95 682.028,1460.98 688.317,1461 694.605,1461.02 700.894,1461.03 707.183,1461.05 713.472,1461.07 719.76,1461.09 726.049,1461.1 732.338,1461.12 \n",
       "  738.627,1461.14 744.916,1461.15 751.204,1461.17 757.493,1461.18 763.782,1461.19 770.071,1461.21 776.359,1461.22 782.648,1461.23 788.937,1461.25 795.226,1461.26 \n",
       "  801.515,1461.27 807.803,1461.28 814.092,1461.29 820.381,1461.3 826.67,1461.31 832.958,1461.32 839.247,1461.33 845.536,1461.34 851.825,1461.35 858.113,1461.36 \n",
       "  864.402,1461.37 870.691,1461.38 876.98,1461.39 883.269,1461.4 889.557,1461.41 895.846,1461.41 902.135,1461.42 908.424,1461.43 914.712,1461.44 921.001,1461.44 \n",
       "  927.29,1461.45 933.579,1461.46 939.868,1461.47 946.156,1461.47 952.445,1461.48 958.734,1461.49 965.023,1461.49 971.311,1461.5 977.6,1461.51 983.889,1461.51 \n",
       "  990.178,1461.52 996.467,1461.52 1002.76,1461.53 1009.04,1461.53 1015.33,1461.54 1021.62,1461.55 1027.91,1461.55 1034.2,1461.56 1040.49,1461.56 1046.78,1461.57 \n",
       "  1053.07,1461.57 1059.35,1461.58 1065.64,1461.58 1071.93,1461.59 1078.22,1461.59 1084.51,1461.59 1090.8,1461.6 1097.09,1461.6 1103.38,1461.61 1109.66,1461.61 \n",
       "  1115.95,1461.62 1122.24,1461.62 1128.53,1461.62 1134.82,1461.63 1141.11,1461.63 1147.4,1461.64 1153.69,1461.64 1159.97,1461.64 1166.26,1461.65 1172.55,1461.65 \n",
       "  1178.84,1461.65 1185.13,1461.66 1191.42,1461.66 1197.71,1461.66 1204,1461.67 1210.28,1461.67 1216.57,1461.67 1222.86,1461.68 1229.15,1461.68 1235.44,1461.68 \n",
       "  1241.73,1461.69 1248.02,1461.69 1254.31,1461.69 1260.6,1461.7 1266.88,1461.7 1273.17,1461.7 1279.46,1461.7 1285.75,1461.71 1292.04,1461.71 1298.33,1461.71 \n",
       "  1304.62,1461.71 1310.91,1461.72 1317.19,1461.72 1323.48,1461.72 1329.77,1461.72 1336.06,1461.73 1342.35,1461.73 1348.64,1461.73 1354.93,1461.73 1361.22,1461.74 \n",
       "  1367.5,1461.74 1373.79,1461.74 1380.08,1461.74 1386.37,1461.75 1392.66,1461.75 1398.95,1461.75 1405.24,1461.75 1411.53,1461.75 1417.81,1461.76 1424.1,1461.76 \n",
       "  1430.39,1461.76 1436.68,1461.76 1442.97,1461.76 1449.26,1461.77 1455.55,1461.77 1461.84,1461.77 1468.12,1461.77 1474.41,1461.77 1480.7,1461.77 1486.99,1461.78 \n",
       "  1493.28,1461.78 1499.57,1461.78 1505.86,1461.78 1512.15,1461.78 1518.43,1461.78 1524.72,1461.79 1531.01,1461.79 1537.3,1461.79 1543.59,1461.79 1549.88,1461.79 \n",
       "  1556.17,1461.79 1562.46,1461.79 1568.75,1461.8 1575.03,1461.8 1581.32,1461.8 1587.61,1461.8 1593.9,1461.8 1600.19,1461.8 1606.48,1461.8 1612.77,1461.81 \n",
       "  1619.06,1461.81 1625.34,1461.81 1631.63,1461.81 1637.92,1461.81 1644.21,1461.81 1650.5,1461.81 1656.79,1461.81 1663.08,1461.82 1669.37,1461.82 1675.65,1461.82 \n",
       "  1681.94,1461.82 1688.23,1461.82 1694.52,1461.82 1700.81,1461.82 1707.1,1461.82 1713.39,1461.82 1719.68,1461.82 1725.96,1461.83 1732.25,1461.83 1738.54,1461.83 \n",
       "  1744.83,1461.83 1751.12,1461.83 1757.41,1461.83 1763.7,1461.83 1769.99,1461.83 1776.27,1461.83 1782.56,1461.83 1788.85,1461.83 1795.14,1461.84 1801.43,1461.84 \n",
       "  1807.72,1461.84 1814.01,1461.84 1820.3,1461.84 1826.58,1461.84 1832.87,1461.84 1839.16,1461.84 1845.45,1461.84 1851.74,1461.84 1858.03,1461.84 1864.32,1461.84 \n",
       "  1870.61,1461.84 1876.9,1461.85 1883.18,1461.85 1889.47,1461.85 1895.76,1461.85 1902.05,1461.85 1908.34,1461.85 1914.63,1461.85 1920.92,1461.85 1927.21,1461.85 \n",
       "  1933.49,1461.85 1939.78,1461.85 1946.07,1461.85 1952.36,1461.85 1958.65,1461.85 1964.94,1461.85 1971.23,1461.85 1977.52,1461.85 1983.8,1461.85 1990.09,1461.86 \n",
       "  1996.38,1461.86 2002.67,1461.86 2008.96,1461.86 2015.25,1461.86 2021.54,1461.86 2027.83,1461.86 2034.11,1461.86 2040.4,1461.86 2046.69,1461.86 2052.98,1461.86 \n",
       "  2059.27,1461.86 2065.56,1461.86 2071.85,1461.86 2078.14,1461.86 2084.42,1461.86 2090.71,1461.86 2097,1461.86 2103.29,1461.86 2109.58,1461.86 2115.87,1461.86 \n",
       "  2122.16,1461.86 2128.45,1461.86 2134.73,1461.86 2141.02,1461.86 2147.31,1461.86 2153.6,1461.86 2159.89,1461.86 2166.18,1461.86 2172.47,1461.86 2178.76,1461.86 \n",
       "  2185.04,1461.86 2191.33,1461.86 2197.62,1461.86 2203.91,1461.86 2210.2,1461.86 2216.49,1461.86 2222.78,1461.86 2229.07,1461.86 2235.36,1461.86 2241.64,1461.86 \n",
       "  2247.93,1461.86 2254.22,1461.86 2260.51,1461.86 \n",
       "  \"/>\n",
       "<polygon clip-path=\"url(#clip0801)\" points=\"\n",
       "1958.43,251.724 2249.26,251.724 2249.26,130.764 1958.43,130.764 \n",
       "  \" fill=\"#ffffff\" fill-rule=\"evenodd\" fill-opacity=\"1\"/>\n",
       "<polyline clip-path=\"url(#clip0801)\" style=\"stroke:#000000; stroke-width:4; stroke-opacity:1; fill:none\" points=\"\n",
       "  1958.43,251.724 2249.26,251.724 2249.26,130.764 1958.43,130.764 1958.43,251.724 \n",
       "  \"/>\n",
       "<polyline clip-path=\"url(#clip0801)\" style=\"stroke:#009af9; stroke-width:4; stroke-opacity:1; fill:none\" points=\"\n",
       "  1982.43,191.244 2126.43,191.244 \n",
       "  \"/>\n",
       "<g clip-path=\"url(#clip0801)\">\n",
       "<text style=\"fill:#000000; fill-opacity:1; font-family:Arial,Helvetica Neue,Helvetica,sans-serif; font-size:48px; text-anchor:start;\" transform=\"rotate(0, 2150.43, 208.744)\" x=\"2150.43\" y=\"208.744\">y1</text>\n",
       "</g>\n",
       "</svg>\n"
      ]
     },
     "execution_count": 9,
     "metadata": {},
     "output_type": "execute_result"
    }
   ],
   "source": [
    "# Plot periodogram\n",
    "plot(posFreq,abs.(fftSig))"
   ]
  }
 ],
 "metadata": {
  "kernelspec": {
   "display_name": "Julia 1.0.3",
   "language": "julia",
   "name": "julia-1.0"
  },
  "language_info": {
   "file_extension": ".jl",
   "mimetype": "application/julia",
   "name": "julia",
   "version": "1.0.3"
  }
 },
 "nbformat": 4,
 "nbformat_minor": 2
}
