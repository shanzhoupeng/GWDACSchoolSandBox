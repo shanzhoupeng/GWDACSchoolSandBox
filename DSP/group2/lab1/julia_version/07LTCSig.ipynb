{
 "cells": [
  {
   "cell_type": "markdown",
   "metadata": {},
   "source": [
    "# Define the AM-FM sinusoid signal and plot it.\n",
    "\n",
    "#### Zu-Cheng Chen, Feb 2019"
   ]
  },
  {
   "cell_type": "code",
   "execution_count": 1,
   "metadata": {},
   "outputs": [],
   "source": [
    "# load packages\n",
    "using Plots\n",
    "using FFTW\n",
    "import LinearAlgebra:norm"
   ]
  },
  {
   "cell_type": "markdown",
   "metadata": {},
   "source": [
    "## Define the amplitude modulated (AM) sinusoid signal.\n",
    "The signal is  by\n",
    "$$\n",
    "s(t) =\n",
    "\\begin{cases}\n",
    "0; \\qquad t \\not\\in [t_a, t_a + L ] \\\\\n",
    " A \\sin(2\\pi f_0 (t-t_a) + f_1 (t-t_a)^2) + \\phi_0),\n",
    "\\end{cases}\n",
    "$$\n",
    "where $A$ is the $snr$."
   ]
  },
  {
   "cell_type": "code",
   "execution_count": 2,
   "metadata": {},
   "outputs": [
    {
     "data": {
      "text/plain": [
       "0.8414709848078965"
      ]
     },
     "execution_count": 2,
     "metadata": {},
     "output_type": "execute_result"
    }
   ],
   "source": [
    "\"\"\"\n",
    "ltcSig(t, snr, b, f0, f1) generates a linear transient chirp signal S. \n",
    "t is the time stamp at which the sample of the signal is to be computed. \n",
    "snr is the matched filtering signal-to-noise ratio of S, \n",
    "[ta, L] determine the time range at which the signal is non-vanishing,\n",
    "and [f0, f1, ϕ0] are three coefficients that \n",
    "parametrize the phase of the signal.\n",
    "\"\"\"\n",
    "function ltcSig(t::Real, snr::Real, ta::Real, f0::Real, f1::Real, ϕ0::Real, L::Real)\n",
    "    if t<ta || t>(ta+L)\n",
    "        signal = 0\n",
    "    else\n",
    "        phase = f0*(t-ta) + f1*(t-ta)^2\n",
    "        phase = 2π*phase + ϕ0\n",
    "        signal = sin(phase)\n",
    "    end\n",
    "    return signal\n",
    "end\n",
    "\n",
    "# test the function\n",
    "ltcSig(1, 1, 1, 1, 1, 1, 1)"
   ]
  },
  {
   "cell_type": "code",
   "execution_count": 3,
   "metadata": {},
   "outputs": [
    {
     "name": "stdout",
     "output_type": "stream",
     "text": [
      "search: \u001b[0m\u001b[1ml\u001b[22m\u001b[0m\u001b[1mt\u001b[22m\u001b[0m\u001b[1mc\u001b[22m\u001b[0m\u001b[1mS\u001b[22m\u001b[0m\u001b[1mi\u001b[22m\u001b[0m\u001b[1mg\u001b[22m\n",
      "\n"
     ]
    },
    {
     "data": {
      "text/latex": [
       "ltcSig(t, snr, b, f0, f1) generates a linear transient chirp signal S.  t is the time stamp at which the sample of the signal is to be computed.  snr is the matched filtering signal-to-noise ratio of S,  [ta, L] determine the time range at which the signal is non-vanishing, and [f0, f1, ϕ0] are three coefficients that  parametrize the phase of the signal.\n",
       "\n"
      ],
      "text/markdown": [
       "ltcSig(t, snr, b, f0, f1) generates a linear transient chirp signal S.  t is the time stamp at which the sample of the signal is to be computed.  snr is the matched filtering signal-to-noise ratio of S,  [ta, L] determine the time range at which the signal is non-vanishing, and [f0, f1, ϕ0] are three coefficients that  parametrize the phase of the signal.\n"
      ],
      "text/plain": [
       "  ltcSig(t, snr, b, f0, f1) generates a linear transient chirp signal S. t is\n",
       "  the time stamp at which the sample of the signal is to be computed. snr is\n",
       "  the matched filtering signal-to-noise ratio of S, [ta, L] determine the time\n",
       "  range at which the signal is non-vanishing, and [f0, f1, ϕ0] are three\n",
       "  coefficients that parametrize the phase of the signal."
      ]
     },
     "execution_count": 3,
     "metadata": {},
     "output_type": "execute_result"
    }
   ],
   "source": [
    "?ltcSig"
   ]
  },
  {
   "cell_type": "code",
   "execution_count": 4,
   "metadata": {},
   "outputs": [
    {
     "data": {
      "text/plain": [
       "(0.8414709848078965, [0.841471, 0.841471])"
      ]
     },
     "execution_count": 4,
     "metadata": {},
     "output_type": "execute_result"
    }
   ],
   "source": [
    "\"\"\"\n",
    "LTCSig(dataT, snr, b, f0, f1) generates a a linear transient chirp signal S. \n",
    "dataT is the vector of time stamps at which the samples \n",
    "of the signal are to be computed. snr is the matched filtering \n",
    "signal-to-noise ratio of S, [ta, L] determine the time range at which \n",
    "the signal is non-vanishing, and [f0, f1, ϕ0] are three coefficients that \n",
    "parametrize the phase of the signal.\n",
    "\"\"\"\n",
    "LTCSig(dataT, snr, ta, f0, f1, ϕ0, L) = ltcSig.(dataT, snr, ta, f0, f1, ϕ0, L)\n",
    "# test the function\n",
    "LTCSig(1, 1, 1, 1, 1, 1, 1), LTCSig([1,2], 1, 1, 1, 1, 1, 1)"
   ]
  },
  {
   "cell_type": "code",
   "execution_count": 5,
   "metadata": {},
   "outputs": [
    {
     "name": "stdout",
     "output_type": "stream",
     "text": [
      "search: \u001b[0m\u001b[1mL\u001b[22m\u001b[0m\u001b[1mT\u001b[22m\u001b[0m\u001b[1mC\u001b[22m\u001b[0m\u001b[1mS\u001b[22m\u001b[0m\u001b[1mi\u001b[22m\u001b[0m\u001b[1mg\u001b[22m \u001b[0m\u001b[1ml\u001b[22m\u001b[0m\u001b[1mt\u001b[22m\u001b[0m\u001b[1mc\u001b[22m\u001b[0m\u001b[1mS\u001b[22m\u001b[0m\u001b[1mi\u001b[22m\u001b[0m\u001b[1mg\u001b[22m\n",
      "\n"
     ]
    },
    {
     "data": {
      "text/latex": [
       "LTCSig(dataT, snr, b, f0, f1) generates a a linear transient chirp signal S.  dataT is the vector of time stamps at which the samples  of the signal are to be computed. snr is the matched filtering  signal-to-noise ratio of S, [ta, L] determine the time range at which  the signal is non-vanishing, and [f0, f1, ϕ0] are three coefficients that  parametrize the phase of the signal.\n",
       "\n"
      ],
      "text/markdown": [
       "LTCSig(dataT, snr, b, f0, f1) generates a a linear transient chirp signal S.  dataT is the vector of time stamps at which the samples  of the signal are to be computed. snr is the matched filtering  signal-to-noise ratio of S, [ta, L] determine the time range at which  the signal is non-vanishing, and [f0, f1, ϕ0] are three coefficients that  parametrize the phase of the signal.\n"
      ],
      "text/plain": [
       "  LTCSig(dataT, snr, b, f0, f1) generates a a linear transient chirp signal S.\n",
       "  dataT is the vector of time stamps at which the samples of the signal are to\n",
       "  be computed. snr is the matched filtering signal-to-noise ratio of S, [ta,\n",
       "  L] determine the time range at which the signal is non-vanishing, and [f0,\n",
       "  f1, ϕ0] are three coefficients that parametrize the phase of the signal."
      ]
     },
     "execution_count": 5,
     "metadata": {},
     "output_type": "execute_result"
    }
   ],
   "source": [
    "?LTCSig"
   ]
  },
  {
   "cell_type": "markdown",
   "metadata": {},
   "source": [
    "## Plot the signal."
   ]
  },
  {
   "cell_type": "code",
   "execution_count": 6,
   "metadata": {},
   "outputs": [],
   "source": [
    "#Set signal parameters.\n",
    "snr = 10;\n",
    "ta = 0.5;\n",
    "f0 = 20;\n",
    "f1 = 20;\n",
    "ϕ0 = π;\n",
    "L = 0.5;"
   ]
  },
  {
   "cell_type": "code",
   "execution_count": 7,
   "metadata": {},
   "outputs": [],
   "source": [
    "#Instantaneous frequency after 1 sec.\n",
    "maxFreq = 2π*(f0*(1-ta) + f1*(1-ta)^2) + ϕ0;\n",
    "samplFreq = 5*maxFreq;\n",
    "samplIntrvl = 1/samplFreq;"
   ]
  },
  {
   "cell_type": "code",
   "execution_count": 8,
   "metadata": {},
   "outputs": [],
   "source": [
    "#Time samples.\n",
    "times = collect(0:samplIntrvl:1.0);\n",
    "\n",
    "# Number of samples\n",
    "nSamples = length(times);\n",
    "\n",
    "# Generate the signal.\n",
    "signals = LTCSig(times, snr, ta, f0, f1, ϕ0, L);"
   ]
  },
  {
   "cell_type": "markdown",
   "metadata": {},
   "source": [
    "### Plot the signal."
   ]
  },
  {
   "cell_type": "code",
   "execution_count": 9,
   "metadata": {},
   "outputs": [
    {
     "data": {
      "image/svg+xml": [
       "<?xml version=\"1.0\" encoding=\"utf-8\"?>\n",
       "<svg xmlns=\"http://www.w3.org/2000/svg\" xmlns:xlink=\"http://www.w3.org/1999/xlink\" width=\"600\" height=\"400\" viewBox=\"0 0 2400 1600\">\n",
       "<defs>\n",
       "  <clipPath id=\"clip2600\">\n",
       "    <rect x=\"0\" y=\"0\" width=\"2000\" height=\"2000\"/>\n",
       "  </clipPath>\n",
       "</defs>\n",
       "<defs>\n",
       "  <clipPath id=\"clip2601\">\n",
       "    <rect x=\"0\" y=\"0\" width=\"2400\" height=\"1600\"/>\n",
       "  </clipPath>\n",
       "</defs>\n",
       "<polygon clip-path=\"url(#clip2601)\" points=\"\n",
       "0,1600 2400,1600 2400,0 0,0 \n",
       "  \" fill=\"#ffffff\" fill-rule=\"evenodd\" fill-opacity=\"1\"/>\n",
       "<defs>\n",
       "  <clipPath id=\"clip2602\">\n",
       "    <rect x=\"480\" y=\"0\" width=\"1681\" height=\"1600\"/>\n",
       "  </clipPath>\n",
       "</defs>\n",
       "<polygon clip-path=\"url(#clip2601)\" points=\"\n",
       "189.504,1503.47 2321.26,1503.47 2321.26,47.2441 189.504,47.2441 \n",
       "  \" fill=\"#ffffff\" fill-rule=\"evenodd\" fill-opacity=\"1\"/>\n",
       "<defs>\n",
       "  <clipPath id=\"clip2603\">\n",
       "    <rect x=\"189\" y=\"47\" width=\"2133\" height=\"1457\"/>\n",
       "  </clipPath>\n",
       "</defs>\n",
       "<polyline clip-path=\"url(#clip2603)\" style=\"stroke:#000000; stroke-width:2; stroke-opacity:0.1; fill:none\" points=\"\n",
       "  249.837,1503.47 249.837,47.2441 \n",
       "  \"/>\n",
       "<polyline clip-path=\"url(#clip2603)\" style=\"stroke:#000000; stroke-width:2; stroke-opacity:0.1; fill:none\" points=\"\n",
       "  753.589,1503.47 753.589,47.2441 \n",
       "  \"/>\n",
       "<polyline clip-path=\"url(#clip2603)\" style=\"stroke:#000000; stroke-width:2; stroke-opacity:0.1; fill:none\" points=\"\n",
       "  1257.34,1503.47 1257.34,47.2441 \n",
       "  \"/>\n",
       "<polyline clip-path=\"url(#clip2603)\" style=\"stroke:#000000; stroke-width:2; stroke-opacity:0.1; fill:none\" points=\"\n",
       "  1761.09,1503.47 1761.09,47.2441 \n",
       "  \"/>\n",
       "<polyline clip-path=\"url(#clip2603)\" style=\"stroke:#000000; stroke-width:2; stroke-opacity:0.1; fill:none\" points=\"\n",
       "  2264.85,1503.47 2264.85,47.2441 \n",
       "  \"/>\n",
       "<polyline clip-path=\"url(#clip2603)\" style=\"stroke:#000000; stroke-width:2; stroke-opacity:0.1; fill:none\" points=\"\n",
       "  189.504,1462.32 2321.26,1462.32 \n",
       "  \"/>\n",
       "<polyline clip-path=\"url(#clip2603)\" style=\"stroke:#000000; stroke-width:2; stroke-opacity:0.1; fill:none\" points=\"\n",
       "  189.504,1118.86 2321.26,1118.86 \n",
       "  \"/>\n",
       "<polyline clip-path=\"url(#clip2603)\" style=\"stroke:#000000; stroke-width:2; stroke-opacity:0.1; fill:none\" points=\"\n",
       "  189.504,775.39 2321.26,775.39 \n",
       "  \"/>\n",
       "<polyline clip-path=\"url(#clip2603)\" style=\"stroke:#000000; stroke-width:2; stroke-opacity:0.1; fill:none\" points=\"\n",
       "  189.504,431.924 2321.26,431.924 \n",
       "  \"/>\n",
       "<polyline clip-path=\"url(#clip2603)\" style=\"stroke:#000000; stroke-width:2; stroke-opacity:0.1; fill:none\" points=\"\n",
       "  189.504,88.4579 2321.26,88.4579 \n",
       "  \"/>\n",
       "<polyline clip-path=\"url(#clip2601)\" style=\"stroke:#000000; stroke-width:4; stroke-opacity:1; fill:none\" points=\"\n",
       "  189.504,1503.47 2321.26,1503.47 \n",
       "  \"/>\n",
       "<polyline clip-path=\"url(#clip2601)\" style=\"stroke:#000000; stroke-width:4; stroke-opacity:1; fill:none\" points=\"\n",
       "  189.504,1503.47 189.504,47.2441 \n",
       "  \"/>\n",
       "<polyline clip-path=\"url(#clip2601)\" style=\"stroke:#000000; stroke-width:4; stroke-opacity:1; fill:none\" points=\"\n",
       "  249.837,1503.47 249.837,1481.63 \n",
       "  \"/>\n",
       "<polyline clip-path=\"url(#clip2601)\" style=\"stroke:#000000; stroke-width:4; stroke-opacity:1; fill:none\" points=\"\n",
       "  753.589,1503.47 753.589,1481.63 \n",
       "  \"/>\n",
       "<polyline clip-path=\"url(#clip2601)\" style=\"stroke:#000000; stroke-width:4; stroke-opacity:1; fill:none\" points=\"\n",
       "  1257.34,1503.47 1257.34,1481.63 \n",
       "  \"/>\n",
       "<polyline clip-path=\"url(#clip2601)\" style=\"stroke:#000000; stroke-width:4; stroke-opacity:1; fill:none\" points=\"\n",
       "  1761.09,1503.47 1761.09,1481.63 \n",
       "  \"/>\n",
       "<polyline clip-path=\"url(#clip2601)\" style=\"stroke:#000000; stroke-width:4; stroke-opacity:1; fill:none\" points=\"\n",
       "  2264.85,1503.47 2264.85,1481.63 \n",
       "  \"/>\n",
       "<polyline clip-path=\"url(#clip2601)\" style=\"stroke:#000000; stroke-width:4; stroke-opacity:1; fill:none\" points=\"\n",
       "  189.504,1462.32 221.48,1462.32 \n",
       "  \"/>\n",
       "<polyline clip-path=\"url(#clip2601)\" style=\"stroke:#000000; stroke-width:4; stroke-opacity:1; fill:none\" points=\"\n",
       "  189.504,1118.86 221.48,1118.86 \n",
       "  \"/>\n",
       "<polyline clip-path=\"url(#clip2601)\" style=\"stroke:#000000; stroke-width:4; stroke-opacity:1; fill:none\" points=\"\n",
       "  189.504,775.39 221.48,775.39 \n",
       "  \"/>\n",
       "<polyline clip-path=\"url(#clip2601)\" style=\"stroke:#000000; stroke-width:4; stroke-opacity:1; fill:none\" points=\"\n",
       "  189.504,431.924 221.48,431.924 \n",
       "  \"/>\n",
       "<polyline clip-path=\"url(#clip2601)\" style=\"stroke:#000000; stroke-width:4; stroke-opacity:1; fill:none\" points=\"\n",
       "  189.504,88.4579 221.48,88.4579 \n",
       "  \"/>\n",
       "<g clip-path=\"url(#clip2601)\">\n",
       "<text style=\"fill:#000000; fill-opacity:1; font-family:Arial,Helvetica Neue,Helvetica,sans-serif; font-size:48px; text-anchor:middle;\" transform=\"rotate(0, 249.837, 1557.47)\" x=\"249.837\" y=\"1557.47\">0.00</text>\n",
       "</g>\n",
       "<g clip-path=\"url(#clip2601)\">\n",
       "<text style=\"fill:#000000; fill-opacity:1; font-family:Arial,Helvetica Neue,Helvetica,sans-serif; font-size:48px; text-anchor:middle;\" transform=\"rotate(0, 753.589, 1557.47)\" x=\"753.589\" y=\"1557.47\">0.25</text>\n",
       "</g>\n",
       "<g clip-path=\"url(#clip2601)\">\n",
       "<text style=\"fill:#000000; fill-opacity:1; font-family:Arial,Helvetica Neue,Helvetica,sans-serif; font-size:48px; text-anchor:middle;\" transform=\"rotate(0, 1257.34, 1557.47)\" x=\"1257.34\" y=\"1557.47\">0.50</text>\n",
       "</g>\n",
       "<g clip-path=\"url(#clip2601)\">\n",
       "<text style=\"fill:#000000; fill-opacity:1; font-family:Arial,Helvetica Neue,Helvetica,sans-serif; font-size:48px; text-anchor:middle;\" transform=\"rotate(0, 1761.09, 1557.47)\" x=\"1761.09\" y=\"1557.47\">0.75</text>\n",
       "</g>\n",
       "<g clip-path=\"url(#clip2601)\">\n",
       "<text style=\"fill:#000000; fill-opacity:1; font-family:Arial,Helvetica Neue,Helvetica,sans-serif; font-size:48px; text-anchor:middle;\" transform=\"rotate(0, 2264.85, 1557.47)\" x=\"2264.85\" y=\"1557.47\">1.00</text>\n",
       "</g>\n",
       "<g clip-path=\"url(#clip2601)\">\n",
       "<text style=\"fill:#000000; fill-opacity:1; font-family:Arial,Helvetica Neue,Helvetica,sans-serif; font-size:48px; text-anchor:end;\" transform=\"rotate(0, 165.504, 1479.82)\" x=\"165.504\" y=\"1479.82\">-1.0</text>\n",
       "</g>\n",
       "<g clip-path=\"url(#clip2601)\">\n",
       "<text style=\"fill:#000000; fill-opacity:1; font-family:Arial,Helvetica Neue,Helvetica,sans-serif; font-size:48px; text-anchor:end;\" transform=\"rotate(0, 165.504, 1136.36)\" x=\"165.504\" y=\"1136.36\">-0.5</text>\n",
       "</g>\n",
       "<g clip-path=\"url(#clip2601)\">\n",
       "<text style=\"fill:#000000; fill-opacity:1; font-family:Arial,Helvetica Neue,Helvetica,sans-serif; font-size:48px; text-anchor:end;\" transform=\"rotate(0, 165.504, 792.89)\" x=\"165.504\" y=\"792.89\">0.0</text>\n",
       "</g>\n",
       "<g clip-path=\"url(#clip2601)\">\n",
       "<text style=\"fill:#000000; fill-opacity:1; font-family:Arial,Helvetica Neue,Helvetica,sans-serif; font-size:48px; text-anchor:end;\" transform=\"rotate(0, 165.504, 449.424)\" x=\"165.504\" y=\"449.424\">0.5</text>\n",
       "</g>\n",
       "<g clip-path=\"url(#clip2601)\">\n",
       "<text style=\"fill:#000000; fill-opacity:1; font-family:Arial,Helvetica Neue,Helvetica,sans-serif; font-size:48px; text-anchor:end;\" transform=\"rotate(0, 165.504, 105.958)\" x=\"165.504\" y=\"105.958\">1.0</text>\n",
       "</g>\n",
       "<polyline clip-path=\"url(#clip2603)\" style=\"stroke:#009af9; stroke-width:4; stroke-opacity:1; fill:none\" points=\"\n",
       "  249.837,775.39 253.975,775.39 258.113,775.39 262.251,775.39 266.389,775.39 270.527,775.39 274.665,775.39 278.803,775.39 282.941,775.39 287.079,775.39 \n",
       "  291.217,775.39 295.355,775.39 299.493,775.39 303.631,775.39 307.769,775.39 311.908,775.39 316.046,775.39 320.184,775.39 324.322,775.39 328.46,775.39 \n",
       "  332.598,775.39 336.736,775.39 340.874,775.39 345.012,775.39 349.15,775.39 353.288,775.39 357.426,775.39 361.564,775.39 365.702,775.39 369.84,775.39 \n",
       "  373.978,775.39 378.116,775.39 382.254,775.39 386.392,775.39 390.53,775.39 394.668,775.39 398.806,775.39 402.945,775.39 407.083,775.39 411.221,775.39 \n",
       "  415.359,775.39 419.497,775.39 423.635,775.39 427.773,775.39 431.911,775.39 436.049,775.39 440.187,775.39 444.325,775.39 448.463,775.39 452.601,775.39 \n",
       "  456.739,775.39 460.877,775.39 465.015,775.39 469.153,775.39 473.291,775.39 477.429,775.39 481.567,775.39 485.705,775.39 489.843,775.39 493.982,775.39 \n",
       "  498.12,775.39 502.258,775.39 506.396,775.39 510.534,775.39 514.672,775.39 518.81,775.39 522.948,775.39 527.086,775.39 531.224,775.39 535.362,775.39 \n",
       "  539.5,775.39 543.638,775.39 547.776,775.39 551.914,775.39 556.052,775.39 560.19,775.39 564.328,775.39 568.466,775.39 572.604,775.39 576.742,775.39 \n",
       "  580.881,775.39 585.019,775.39 589.157,775.39 593.295,775.39 597.433,775.39 601.571,775.39 605.709,775.39 609.847,775.39 613.985,775.39 618.123,775.39 \n",
       "  622.261,775.39 626.399,775.39 630.537,775.39 634.675,775.39 638.813,775.39 642.951,775.39 647.089,775.39 651.227,775.39 655.365,775.39 659.503,775.39 \n",
       "  663.641,775.39 667.779,775.39 671.918,775.39 676.056,775.39 680.194,775.39 684.332,775.39 688.47,775.39 692.608,775.39 696.746,775.39 700.884,775.39 \n",
       "  705.022,775.39 709.16,775.39 713.298,775.39 717.436,775.39 721.574,775.39 725.712,775.39 729.85,775.39 733.988,775.39 738.126,775.39 742.264,775.39 \n",
       "  746.402,775.39 750.54,775.39 754.678,775.39 758.816,775.39 762.955,775.39 767.093,775.39 771.231,775.39 775.369,775.39 779.507,775.39 783.645,775.39 \n",
       "  787.783,775.39 791.921,775.39 796.059,775.39 800.197,775.39 804.335,775.39 808.473,775.39 812.611,775.39 816.749,775.39 820.887,775.39 825.025,775.39 \n",
       "  829.163,775.39 833.301,775.39 837.439,775.39 841.577,775.39 845.715,775.39 849.853,775.39 853.992,775.39 858.13,775.39 862.268,775.39 866.406,775.39 \n",
       "  870.544,775.39 874.682,775.39 878.82,775.39 882.958,775.39 887.096,775.39 891.234,775.39 895.372,775.39 899.51,775.39 903.648,775.39 907.786,775.39 \n",
       "  911.924,775.39 916.062,775.39 920.2,775.39 924.338,775.39 928.476,775.39 932.614,775.39 936.752,775.39 940.89,775.39 945.029,775.39 949.167,775.39 \n",
       "  953.305,775.39 957.443,775.39 961.581,775.39 965.719,775.39 969.857,775.39 973.995,775.39 978.133,775.39 982.271,775.39 986.409,775.39 990.547,775.39 \n",
       "  994.685,775.39 998.823,775.39 1002.96,775.39 1007.1,775.39 1011.24,775.39 1015.38,775.39 1019.51,775.39 1023.65,775.39 1027.79,775.39 1031.93,775.39 \n",
       "  1036.07,775.39 1040.2,775.39 1044.34,775.39 1048.48,775.39 1052.62,775.39 1056.76,775.39 1060.89,775.39 1065.03,775.39 1069.17,775.39 1073.31,775.39 \n",
       "  1077.45,775.39 1081.58,775.39 1085.72,775.39 1089.86,775.39 1094,775.39 1098.14,775.39 1102.27,775.39 1106.41,775.39 1110.55,775.39 1114.69,775.39 \n",
       "  1118.83,775.39 1122.96,775.39 1127.1,775.39 1131.24,775.39 1135.38,775.39 1139.52,775.39 1143.65,775.39 1147.79,775.39 1151.93,775.39 1156.07,775.39 \n",
       "  1160.21,775.39 1164.34,775.39 1168.48,775.39 1172.62,775.39 1176.76,775.39 1180.9,775.39 1185.04,775.39 1189.17,775.39 1193.31,775.39 1197.45,775.39 \n",
       "  1201.59,775.39 1205.73,775.39 1209.86,775.39 1214,775.39 1218.14,775.39 1222.28,775.39 1226.42,775.39 1230.55,775.39 1234.69,775.39 1238.83,775.39 \n",
       "  1242.97,775.39 1247.11,775.39 1251.24,775.39 1255.38,775.39 1259.52,868.549 1263.66,1039.85 1267.8,1194.06 1271.93,1320.53 1276.07,1410.27 1280.21,1456.67 \n",
       "  1284.35,1455.97 1288.49,1407.68 1292.62,1314.61 1296.76,1182.88 1300.9,1021.45 1305.04,841.632 1309.18,656.31 1313.31,479.012 1317.45,322.937 1321.59,199.959 \n",
       "  1325.73,119.693 1329.87,88.7011 1334,109.909 1338.14,182.282 1342.28,300.8 1346.42,456.742 1350.56,638.279 1354.7,831.328 1358.83,1020.62 1362.97,1190.92 \n",
       "  1367.11,1328.21 1371.25,1420.96 1375.39,1461.04 1379.52,1444.57 1383.66,1372.3 1387.8,1249.7 1391.94,1086.57 1396.08,896.386 1400.21,695.156 1404.35,500.151 \n",
       "  1408.49,328.403 1412.63,195.207 1416.77,112.727 1420.9,88.8279 1425.04,126.264 1429.18,222.303 1433.32,368.843 1437.46,553.017 1441.59,758.268 1445.73,965.796 \n",
       "  1449.87,1156.26 1454.01,1311.61 1458.15,1416.77 1462.28,1461.24 1466.42,1440.12 1470.56,1354.8 1474.7,1212.93 1478.84,1027.8 1482.97,817.217 1487.11,601.808 \n",
       "  1491.25,403.018 1495.39,240.982 1499.53,132.447 1503.66,88.9852 1507.8,115.688 1511.94,210.487 1516.08,364.203 1520.22,561.349 1524.35,781.615 1528.49,1001.91 \n",
       "  1532.63,1198.78 1536.77,1350.89 1540.91,1441.4 1545.05,1459.91 1549.18,1403.71 1553.32,1278.27 1557.46,1096.83 1561.6,879.048 1565.74,648.998 1569.87,432.497 \n",
       "  1574.01,254.229 1578.15,134.896 1582.29,88.7476 1586.43,121.788 1590.56,230.902 1594.7,404.02 1598.84,621.349 1602.98,857.555 1607.12,1084.67 1611.25,1275.39 \n",
       "  1615.39,1406.39 1619.53,1461.24 1623.67,1432.58 1627.81,1323.17 1631.94,1145.82 1636.08,921.946 1640.22,679.122 1644.36,447.704 1648.5,257.053 1652.63,131.773 \n",
       "  1656.77,88.4607 1660.91,133.401 1665.05,261.542 1669.19,456.92 1673.32,694.532 1677.46,943.45 1681.6,1170.8 1685.74,1346.13 1689.88,1445.49 1694.01,1454.86 \n",
       "  1698.15,1372.21 1702.29,1208.02 1706.43,984.115 1710.57,730.844 1714.71,483.061 1718.84,275.34 1722.98,137.122 1727.12,88.4582 1731.26,136.982 1735.4,276.58 \n",
       "  1739.53,487.999 1743.67,741.37 1747.81,1000.34 1751.95,1227.23 1756.09,1388.56 1760.22,1460.05 1764.36,1430.39 1768.5,1303.19 1772.64,1096.69 1776.78,841.332 \n",
       "  1780.91,575.343 1785.05,339.085 1789.19,168.909 1793.33,91.491 1797.47,119.521 1801.6,249.474 1805.74,461.857 1809.88,723.98 1814.02,994.872 1818.16,1231.64 \n",
       "  1822.29,1396.26 1826.43,1461.8 1830.57,1416.94 1834.71,1268.1 1838.85,1038.7 1842.98,765.662 1847.12,493.553 1851.26,267.358 1855.4,125.001 1859.54,90.8878 \n",
       "  1863.67,171.558 1867.81,354.265 1871.95,608.8 1876.09,892.329 1880.23,1156.51 1884.36,1355.75 1888.5,1455.08 1892.64,1436.52 1896.78,1302.43 1900.92,1075.5 \n",
       "  1905.06,795.097 1909.19,510.54 1913.33,272.501 1917.47,123.938 1921.61,92.2323 1925.75,183.96 1929.88,383.347 1934.02,654.764 1938.16,948.934 1942.3,1211.79 \n",
       "  1946.44,1394.42 1950.57,1462.26 1954.71,1401.81 1958.85,1223.51 1962.99,960.206 1967.13,661.247 1971.26,383.369 1975.4,179.94 1979.54,90.6264 1983.68,133.491 \n",
       "  1987.82,301.126 1991.95,561.683 1996.09,864.716 2000.23,1150.82 2004.37,1363.27 2008.51,1459.3 2012.64,1418.95 2016.78,1249.37 2020.92,983.876 2025.06,675.582 \n",
       "  2029.2,386.923 2033.33,177.033 2037.47,89.5381 2041.61,143.309 2045.75,328.154 2049.89,606.475 2054.02,920.705 2058.16,1205.09 2062.3,1399.42 2066.44,1461.94 \n",
       "  2070.58,1378.44 2074.72,1165.83 2078.85,868.924 2082.99,551.214 2087.13,281.415 2091.27,118.562 2095.41,98.9558 2099.54,227.832 2103.68,477.731 2107.82,794.078 \n",
       "  2111.96,1106.92 2116.1,1346.32 2120.23,1458.09 2124.37,1416.2 2128.51,1229.16 2132.65,938.579 2136.79,610.142 2140.92,318.937 2145.06,132.27 2149.2,93.9813 \n",
       "  2153.34,213.9 2157.48,465.044 2161.61,789.397 2165.75,1111.1 2169.89,1354.12 2174.03,1460.31 2178.17,1403.51 2182.3,1196.3 2186.44,887.541 2190.58,551.12 \n",
       "  2194.72,268.382 2198.86,108.456 2202.99,111.171 2207.13,276.856 2211.27,565.683 2215.41,906.946 2219.55,1216.19 2223.68,1416.07 2227.82,1455.88 2231.96,1324.63 \n",
       "  2236.1,1054.43 2240.24,712.974 2244.37,386.758 2248.51,159.266 2252.65,89.4755 2256.79,196.311 2260.93,453.177 \n",
       "  \"/>\n",
       "<polygon clip-path=\"url(#clip2601)\" points=\"\n",
       "1958.43,251.724 2249.26,251.724 2249.26,130.764 1958.43,130.764 \n",
       "  \" fill=\"#ffffff\" fill-rule=\"evenodd\" fill-opacity=\"1\"/>\n",
       "<polyline clip-path=\"url(#clip2601)\" style=\"stroke:#000000; stroke-width:4; stroke-opacity:1; fill:none\" points=\"\n",
       "  1958.43,251.724 2249.26,251.724 2249.26,130.764 1958.43,130.764 1958.43,251.724 \n",
       "  \"/>\n",
       "<polyline clip-path=\"url(#clip2601)\" style=\"stroke:#009af9; stroke-width:4; stroke-opacity:1; fill:none\" points=\"\n",
       "  1982.43,191.244 2126.43,191.244 \n",
       "  \"/>\n",
       "<g clip-path=\"url(#clip2601)\">\n",
       "<text style=\"fill:#000000; fill-opacity:1; font-family:Arial,Helvetica Neue,Helvetica,sans-serif; font-size:48px; text-anchor:start;\" transform=\"rotate(0, 2150.43, 208.744)\" x=\"2150.43\" y=\"208.744\">y1</text>\n",
       "</g>\n",
       "</svg>\n"
      ]
     },
     "execution_count": 9,
     "metadata": {},
     "output_type": "execute_result"
    }
   ],
   "source": [
    "plot(times,signals)"
   ]
  },
  {
   "cell_type": "markdown",
   "metadata": {},
   "source": [
    "### Plot the periodogram."
   ]
  },
  {
   "cell_type": "code",
   "execution_count": 10,
   "metadata": {},
   "outputs": [],
   "source": [
    "# Length of data \n",
    "dataLen = times[end]-times[1]\n",
    "\n",
    "# DFT sample corresponding to Nyquist frequency\n",
    "kNyq = Int(floor(nSamples/2)+1)\n",
    "\n",
    "# Positive Fourier frequencies\n",
    "posFreq = (0:(kNyq-1))*(1/dataLen);\n",
    "\n",
    "# FFT of signal\n",
    "fftSig = fft(signals);\n",
    "\n",
    "# Discard negative frequencies\n",
    "fftSig = fftSig[1:kNyq];"
   ]
  },
  {
   "cell_type": "code",
   "execution_count": 11,
   "metadata": {},
   "outputs": [
    {
     "data": {
      "image/svg+xml": [
       "<?xml version=\"1.0\" encoding=\"utf-8\"?>\n",
       "<svg xmlns=\"http://www.w3.org/2000/svg\" xmlns:xlink=\"http://www.w3.org/1999/xlink\" width=\"600\" height=\"400\" viewBox=\"0 0 2400 1600\">\n",
       "<defs>\n",
       "  <clipPath id=\"clip2800\">\n",
       "    <rect x=\"0\" y=\"0\" width=\"2000\" height=\"2000\"/>\n",
       "  </clipPath>\n",
       "</defs>\n",
       "<defs>\n",
       "  <clipPath id=\"clip2801\">\n",
       "    <rect x=\"0\" y=\"0\" width=\"2400\" height=\"1600\"/>\n",
       "  </clipPath>\n",
       "</defs>\n",
       "<polygon clip-path=\"url(#clip2801)\" points=\"\n",
       "0,1600 2400,1600 2400,0 0,0 \n",
       "  \" fill=\"#ffffff\" fill-rule=\"evenodd\" fill-opacity=\"1\"/>\n",
       "<defs>\n",
       "  <clipPath id=\"clip2802\">\n",
       "    <rect x=\"480\" y=\"0\" width=\"1681\" height=\"1600\"/>\n",
       "  </clipPath>\n",
       "</defs>\n",
       "<polygon clip-path=\"url(#clip2801)\" points=\"\n",
       "148.013,1503.47 2321.26,1503.47 2321.26,47.2441 148.013,47.2441 \n",
       "  \" fill=\"#ffffff\" fill-rule=\"evenodd\" fill-opacity=\"1\"/>\n",
       "<defs>\n",
       "  <clipPath id=\"clip2803\">\n",
       "    <rect x=\"148\" y=\"47\" width=\"2174\" height=\"1457\"/>\n",
       "  </clipPath>\n",
       "</defs>\n",
       "<polyline clip-path=\"url(#clip2803)\" style=\"stroke:#000000; stroke-width:2; stroke-opacity:0.1; fill:none\" points=\"\n",
       "  209.52,1503.47 209.52,47.2441 \n",
       "  \"/>\n",
       "<polyline clip-path=\"url(#clip2803)\" style=\"stroke:#000000; stroke-width:2; stroke-opacity:0.1; fill:none\" points=\"\n",
       "  630.558,1503.47 630.558,47.2441 \n",
       "  \"/>\n",
       "<polyline clip-path=\"url(#clip2803)\" style=\"stroke:#000000; stroke-width:2; stroke-opacity:0.1; fill:none\" points=\"\n",
       "  1051.6,1503.47 1051.6,47.2441 \n",
       "  \"/>\n",
       "<polyline clip-path=\"url(#clip2803)\" style=\"stroke:#000000; stroke-width:2; stroke-opacity:0.1; fill:none\" points=\"\n",
       "  1472.63,1503.47 1472.63,47.2441 \n",
       "  \"/>\n",
       "<polyline clip-path=\"url(#clip2803)\" style=\"stroke:#000000; stroke-width:2; stroke-opacity:0.1; fill:none\" points=\"\n",
       "  1893.67,1503.47 1893.67,47.2441 \n",
       "  \"/>\n",
       "<polyline clip-path=\"url(#clip2803)\" style=\"stroke:#000000; stroke-width:2; stroke-opacity:0.1; fill:none\" points=\"\n",
       "  2314.71,1503.47 2314.71,47.2441 \n",
       "  \"/>\n",
       "<polyline clip-path=\"url(#clip2803)\" style=\"stroke:#000000; stroke-width:2; stroke-opacity:0.1; fill:none\" points=\"\n",
       "  148.013,1465.51 2321.26,1465.51 \n",
       "  \"/>\n",
       "<polyline clip-path=\"url(#clip2803)\" style=\"stroke:#000000; stroke-width:2; stroke-opacity:0.1; fill:none\" points=\"\n",
       "  148.013,1170.7 2321.26,1170.7 \n",
       "  \"/>\n",
       "<polyline clip-path=\"url(#clip2803)\" style=\"stroke:#000000; stroke-width:2; stroke-opacity:0.1; fill:none\" points=\"\n",
       "  148.013,875.889 2321.26,875.889 \n",
       "  \"/>\n",
       "<polyline clip-path=\"url(#clip2803)\" style=\"stroke:#000000; stroke-width:2; stroke-opacity:0.1; fill:none\" points=\"\n",
       "  148.013,581.079 2321.26,581.079 \n",
       "  \"/>\n",
       "<polyline clip-path=\"url(#clip2803)\" style=\"stroke:#000000; stroke-width:2; stroke-opacity:0.1; fill:none\" points=\"\n",
       "  148.013,286.268 2321.26,286.268 \n",
       "  \"/>\n",
       "<polyline clip-path=\"url(#clip2801)\" style=\"stroke:#000000; stroke-width:4; stroke-opacity:1; fill:none\" points=\"\n",
       "  148.013,1503.47 2321.26,1503.47 \n",
       "  \"/>\n",
       "<polyline clip-path=\"url(#clip2801)\" style=\"stroke:#000000; stroke-width:4; stroke-opacity:1; fill:none\" points=\"\n",
       "  148.013,1503.47 148.013,47.2441 \n",
       "  \"/>\n",
       "<polyline clip-path=\"url(#clip2801)\" style=\"stroke:#000000; stroke-width:4; stroke-opacity:1; fill:none\" points=\"\n",
       "  209.52,1503.47 209.52,1481.63 \n",
       "  \"/>\n",
       "<polyline clip-path=\"url(#clip2801)\" style=\"stroke:#000000; stroke-width:4; stroke-opacity:1; fill:none\" points=\"\n",
       "  630.558,1503.47 630.558,1481.63 \n",
       "  \"/>\n",
       "<polyline clip-path=\"url(#clip2801)\" style=\"stroke:#000000; stroke-width:4; stroke-opacity:1; fill:none\" points=\"\n",
       "  1051.6,1503.47 1051.6,1481.63 \n",
       "  \"/>\n",
       "<polyline clip-path=\"url(#clip2801)\" style=\"stroke:#000000; stroke-width:4; stroke-opacity:1; fill:none\" points=\"\n",
       "  1472.63,1503.47 1472.63,1481.63 \n",
       "  \"/>\n",
       "<polyline clip-path=\"url(#clip2801)\" style=\"stroke:#000000; stroke-width:4; stroke-opacity:1; fill:none\" points=\"\n",
       "  1893.67,1503.47 1893.67,1481.63 \n",
       "  \"/>\n",
       "<polyline clip-path=\"url(#clip2801)\" style=\"stroke:#000000; stroke-width:4; stroke-opacity:1; fill:none\" points=\"\n",
       "  2314.71,1503.47 2314.71,1481.63 \n",
       "  \"/>\n",
       "<polyline clip-path=\"url(#clip2801)\" style=\"stroke:#000000; stroke-width:4; stroke-opacity:1; fill:none\" points=\"\n",
       "  148.013,1465.51 180.612,1465.51 \n",
       "  \"/>\n",
       "<polyline clip-path=\"url(#clip2801)\" style=\"stroke:#000000; stroke-width:4; stroke-opacity:1; fill:none\" points=\"\n",
       "  148.013,1170.7 180.612,1170.7 \n",
       "  \"/>\n",
       "<polyline clip-path=\"url(#clip2801)\" style=\"stroke:#000000; stroke-width:4; stroke-opacity:1; fill:none\" points=\"\n",
       "  148.013,875.889 180.612,875.889 \n",
       "  \"/>\n",
       "<polyline clip-path=\"url(#clip2801)\" style=\"stroke:#000000; stroke-width:4; stroke-opacity:1; fill:none\" points=\"\n",
       "  148.013,581.079 180.612,581.079 \n",
       "  \"/>\n",
       "<polyline clip-path=\"url(#clip2801)\" style=\"stroke:#000000; stroke-width:4; stroke-opacity:1; fill:none\" points=\"\n",
       "  148.013,286.268 180.612,286.268 \n",
       "  \"/>\n",
       "<g clip-path=\"url(#clip2801)\">\n",
       "<text style=\"fill:#000000; fill-opacity:1; font-family:Arial,Helvetica Neue,Helvetica,sans-serif; font-size:48px; text-anchor:middle;\" transform=\"rotate(0, 209.52, 1557.47)\" x=\"209.52\" y=\"1557.47\">0</text>\n",
       "</g>\n",
       "<g clip-path=\"url(#clip2801)\">\n",
       "<text style=\"fill:#000000; fill-opacity:1; font-family:Arial,Helvetica Neue,Helvetica,sans-serif; font-size:48px; text-anchor:middle;\" transform=\"rotate(0, 630.558, 1557.47)\" x=\"630.558\" y=\"1557.47\">50</text>\n",
       "</g>\n",
       "<g clip-path=\"url(#clip2801)\">\n",
       "<text style=\"fill:#000000; fill-opacity:1; font-family:Arial,Helvetica Neue,Helvetica,sans-serif; font-size:48px; text-anchor:middle;\" transform=\"rotate(0, 1051.6, 1557.47)\" x=\"1051.6\" y=\"1557.47\">100</text>\n",
       "</g>\n",
       "<g clip-path=\"url(#clip2801)\">\n",
       "<text style=\"fill:#000000; fill-opacity:1; font-family:Arial,Helvetica Neue,Helvetica,sans-serif; font-size:48px; text-anchor:middle;\" transform=\"rotate(0, 1472.63, 1557.47)\" x=\"1472.63\" y=\"1557.47\">150</text>\n",
       "</g>\n",
       "<g clip-path=\"url(#clip2801)\">\n",
       "<text style=\"fill:#000000; fill-opacity:1; font-family:Arial,Helvetica Neue,Helvetica,sans-serif; font-size:48px; text-anchor:middle;\" transform=\"rotate(0, 1893.67, 1557.47)\" x=\"1893.67\" y=\"1557.47\">200</text>\n",
       "</g>\n",
       "<g clip-path=\"url(#clip2801)\">\n",
       "<text style=\"fill:#000000; fill-opacity:1; font-family:Arial,Helvetica Neue,Helvetica,sans-serif; font-size:48px; text-anchor:middle;\" transform=\"rotate(0, 2314.71, 1557.47)\" x=\"2314.71\" y=\"1557.47\">250</text>\n",
       "</g>\n",
       "<g clip-path=\"url(#clip2801)\">\n",
       "<text style=\"fill:#000000; fill-opacity:1; font-family:Arial,Helvetica Neue,Helvetica,sans-serif; font-size:48px; text-anchor:end;\" transform=\"rotate(0, 124.013, 1483.01)\" x=\"124.013\" y=\"1483.01\">0</text>\n",
       "</g>\n",
       "<g clip-path=\"url(#clip2801)\">\n",
       "<text style=\"fill:#000000; fill-opacity:1; font-family:Arial,Helvetica Neue,Helvetica,sans-serif; font-size:48px; text-anchor:end;\" transform=\"rotate(0, 124.013, 1188.2)\" x=\"124.013\" y=\"1188.2\">10</text>\n",
       "</g>\n",
       "<g clip-path=\"url(#clip2801)\">\n",
       "<text style=\"fill:#000000; fill-opacity:1; font-family:Arial,Helvetica Neue,Helvetica,sans-serif; font-size:48px; text-anchor:end;\" transform=\"rotate(0, 124.013, 893.389)\" x=\"124.013\" y=\"893.389\">20</text>\n",
       "</g>\n",
       "<g clip-path=\"url(#clip2801)\">\n",
       "<text style=\"fill:#000000; fill-opacity:1; font-family:Arial,Helvetica Neue,Helvetica,sans-serif; font-size:48px; text-anchor:end;\" transform=\"rotate(0, 124.013, 598.579)\" x=\"124.013\" y=\"598.579\">30</text>\n",
       "</g>\n",
       "<g clip-path=\"url(#clip2801)\">\n",
       "<text style=\"fill:#000000; fill-opacity:1; font-family:Arial,Helvetica Neue,Helvetica,sans-serif; font-size:48px; text-anchor:end;\" transform=\"rotate(0, 124.013, 303.768)\" x=\"124.013\" y=\"303.768\">40</text>\n",
       "</g>\n",
       "<polyline clip-path=\"url(#clip2803)\" style=\"stroke:#009af9; stroke-width:4; stroke-opacity:1; fill:none\" points=\"\n",
       "  209.52,1407.27 217.957,1294.5 226.394,1406.27 234.831,1291.89 243.269,1403.13 251.706,1286.39 260.143,1397.42 268.58,1277.33 277.017,1388.25 285.454,1263.43 \n",
       "  293.892,1373.92 302.329,1242.36 310.766,1351.27 319.203,1209.75 327.64,1314.09 336.077,1157.27 344.515,1249.97 352.952,1069.59 361.389,1135.04 369.826,923.025 \n",
       "  378.263,930.437 386.7,697.865 395.138,601.703 403.575,427.228 412.012,212.294 420.449,261.198 428.886,90.0754 437.324,312.041 445.761,516.995 454.198,323.137 \n",
       "  462.635,175.428 471.072,370.62 479.509,517.76 487.947,304.04 496.384,88.4582 504.821,186.682 513.258,210.402 521.695,415.52 530.132,602.068 538.57,741.04 \n",
       "  547.007,933.391 555.444,991.356 563.881,1140.05 572.318,1147.41 580.755,1256.64 589.193,1239.19 597.63,1322.28 606.067,1294.39 614.504,1361.03 622.941,1329.56 \n",
       "  631.378,1385.4 639.816,1353.45 648.253,1401.69 656.69,1370.6 665.127,1413.14 673.564,1383.48 682.002,1421.54 690.439,1393.5 698.876,1427.9 707.313,1401.52 \n",
       "  715.75,1432.85 724.187,1408.07 732.625,1436.79 741.062,1413.53 749.499,1439.99 757.936,1418.14 766.373,1442.63 774.81,1422.09 783.248,1444.83 791.685,1425.51 \n",
       "  800.122,1446.69 808.559,1428.49 816.996,1448.27 825.433,1431.12 833.871,1449.64 842.308,1433.44 850.745,1450.83 859.182,1435.52 867.619,1451.86 876.057,1437.38 \n",
       "  884.494,1452.78 892.931,1439.05 901.368,1453.59 909.805,1440.57 918.242,1454.31 926.68,1441.95 935.117,1454.95 943.554,1443.2 951.991,1455.53 960.428,1444.35 \n",
       "  968.865,1456.05 977.303,1445.4 985.74,1456.52 994.177,1446.38 1002.61,1456.95 1011.05,1447.27 1019.49,1457.34 1027.93,1448.1 1036.36,1457.7 1044.8,1448.87 \n",
       "  1053.24,1458.02 1061.67,1449.58 1070.11,1458.32 1078.55,1450.25 1086.99,1458.6 1095.42,1450.87 1103.86,1458.86 1112.3,1451.45 1120.73,1459.09 1129.17,1451.99 \n",
       "  1137.61,1459.31 1146.05,1452.5 1154.48,1459.51 1162.92,1452.98 1171.36,1459.7 1179.79,1453.43 1188.23,1459.88 1196.67,1453.85 1205.11,1460.04 1213.54,1454.25 \n",
       "  1221.98,1460.19 1230.42,1454.63 1238.85,1460.33 1247.29,1454.98 1255.73,1460.47 1264.17,1455.32 1272.6,1460.59 1281.04,1455.64 1289.48,1460.71 1297.92,1455.94 \n",
       "  1306.35,1460.82 1314.79,1456.23 1323.23,1460.92 1331.66,1456.5 1340.1,1461.02 1348.54,1456.76 1356.98,1461.11 1365.41,1457 1373.85,1461.19 1382.29,1457.24 \n",
       "  1390.72,1461.27 1399.16,1457.46 1407.6,1461.35 1416.04,1457.67 1424.47,1461.42 1432.91,1457.88 1441.35,1461.48 1449.78,1458.07 1458.22,1461.55 1466.66,1458.25 \n",
       "  1475.1,1461.6 1483.53,1458.43 1491.97,1461.66 1500.41,1458.6 1508.84,1461.71 1517.28,1458.76 1525.72,1461.76 1534.16,1458.92 1542.59,1461.81 1551.03,1459.07 \n",
       "  1559.47,1461.85 1567.9,1459.21 1576.34,1461.89 1584.78,1459.35 1593.22,1461.93 1601.65,1459.48 1610.09,1461.96 1618.53,1459.6 1626.96,1461.99 1635.4,1459.72 \n",
       "  1643.84,1462.02 1652.28,1459.84 1660.71,1462.05 1669.15,1459.95 1677.59,1462.08 1686.03,1460.06 1694.46,1462.1 1702.9,1460.16 1711.34,1462.12 1719.77,1460.26 \n",
       "  1728.21,1462.14 1736.65,1460.35 1745.09,1462.16 1753.52,1460.44 1761.96,1462.18 1770.4,1460.53 1778.83,1462.19 1787.27,1460.62 1795.71,1462.21 1804.15,1460.7 \n",
       "  1812.58,1462.22 1821.02,1460.77 1829.46,1462.23 1837.89,1460.85 1846.33,1462.24 1854.77,1460.92 1863.21,1462.25 1871.64,1460.99 1880.08,1462.25 1888.52,1461.06 \n",
       "  1896.95,1462.26 1905.39,1461.12 1913.83,1462.26 1922.27,1461.19 1930.7,1462.26 1939.14,1461.25 1947.58,1462.26 1956.01,1461.3 1964.45,1462.26 1972.89,1461.36 \n",
       "  1981.33,1462.26 1989.76,1461.41 1998.2,1462.25 2006.64,1461.46 2015.07,1462.25 2023.51,1461.51 2031.95,1462.24 2040.39,1461.56 2048.82,1462.23 2057.26,1461.6 \n",
       "  2065.7,1462.23 2074.14,1461.65 2082.57,1462.21 2091.01,1461.69 2099.45,1462.2 2107.88,1461.73 2116.32,1462.19 2124.76,1461.77 2133.2,1462.18 2141.63,1461.8 \n",
       "  2150.07,1462.16 2158.51,1461.84 2166.94,1462.14 2175.38,1461.87 2183.82,1462.13 2192.26,1461.9 2200.69,1462.11 2209.13,1461.93 2217.57,1462.09 2226,1461.96 \n",
       "  2234.44,1462.06 2242.88,1461.99 2251.32,1462.04 2259.75,1462.02 \n",
       "  \"/>\n",
       "<polygon clip-path=\"url(#clip2801)\" points=\"\n",
       "1958.43,251.724 2249.26,251.724 2249.26,130.764 1958.43,130.764 \n",
       "  \" fill=\"#ffffff\" fill-rule=\"evenodd\" fill-opacity=\"1\"/>\n",
       "<polyline clip-path=\"url(#clip2801)\" style=\"stroke:#000000; stroke-width:4; stroke-opacity:1; fill:none\" points=\"\n",
       "  1958.43,251.724 2249.26,251.724 2249.26,130.764 1958.43,130.764 1958.43,251.724 \n",
       "  \"/>\n",
       "<polyline clip-path=\"url(#clip2801)\" style=\"stroke:#009af9; stroke-width:4; stroke-opacity:1; fill:none\" points=\"\n",
       "  1982.43,191.244 2126.43,191.244 \n",
       "  \"/>\n",
       "<g clip-path=\"url(#clip2801)\">\n",
       "<text style=\"fill:#000000; fill-opacity:1; font-family:Arial,Helvetica Neue,Helvetica,sans-serif; font-size:48px; text-anchor:start;\" transform=\"rotate(0, 2150.43, 208.744)\" x=\"2150.43\" y=\"208.744\">y1</text>\n",
       "</g>\n",
       "</svg>\n"
      ]
     },
     "execution_count": 11,
     "metadata": {},
     "output_type": "execute_result"
    }
   ],
   "source": [
    "# Plot periodogram\n",
    "plot(posFreq,abs.(fftSig))"
   ]
  }
 ],
 "metadata": {
  "kernelspec": {
   "display_name": "Julia 1.0.3",
   "language": "julia",
   "name": "julia-1.0"
  },
  "language_info": {
   "file_extension": ".jl",
   "mimetype": "application/julia",
   "name": "julia",
   "version": "1.0.3"
  }
 },
 "nbformat": 4,
 "nbformat_minor": 2
}
