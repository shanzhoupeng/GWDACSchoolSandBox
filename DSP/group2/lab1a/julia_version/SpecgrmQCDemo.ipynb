{
 "cells": [
  {
   "cell_type": "markdown",
   "metadata": {},
   "source": [
    "# Define the sinusoid signal and plot it.\n",
    "\n",
    "#### Zu-Cheng Chen, Feb 2019"
   ]
  },
  {
   "cell_type": "code",
   "execution_count": 1,
   "metadata": {},
   "outputs": [],
   "source": [
    "# load packages\n",
    "using PyPlot\n",
    "#using Plots\n",
    "using FFTW\n",
    "using DSP\n",
    "import LinearAlgebra: norm, reverse"
   ]
  },
  {
   "cell_type": "markdown",
   "metadata": {},
   "source": [
    "## Define the sinusoid signal.\n",
    "The signal is  by\n",
    "$$\n",
    "s(t) = A \\sin(2\\pi \\phi(t)),\n",
    "$$\n",
    "where $A$ is the $snr$, and the phase is given by\n",
    "$$\n",
    "\\phi(t) = a_1 t + a_2 t^2 + a_3 t^3.\n",
    "$$"
   ]
  },
  {
   "cell_type": "code",
   "execution_count": 2,
   "metadata": {},
   "outputs": [
    {
     "data": {
      "text/plain": [
       "(-1.0, [-0.209529, -0.977802])"
      ]
     },
     "execution_count": 2,
     "metadata": {},
     "output_type": "execute_result"
    }
   ],
   "source": [
    "\"\"\"\n",
    "Generate a quadratic chirp signal\n",
    "S = CRCBGENQSIG(X,SNR,C)\n",
    "Generates a quadratic chirp signal S. X is the vector of\n",
    "time stamps at which the samples of the signal are to be computed. SNR is\n",
    "the matched filtering signal-to-noise ratio of S and C is the vector of\n",
    "three coefficients [a1, a2, a3] that parametrize the phase of the signal:\n",
    "a1*t+a2*t^2+a3*t^3. \n",
    "\"\"\"\n",
    "function crcbgenqcsig(dataX, snr::Real, qcCoefs::Array)\n",
    "    phaseVec = qcCoefs[1]*dataX + qcCoefs[2]*dataX.^2 + qcCoefs[3]*dataX.^3;\n",
    "    sigVec = sin.(2π*phaseVec)\n",
    "    sigVec = snr*sigVec/norm(sigVec)\n",
    "end\n",
    "\n",
    "# test the function\n",
    "crcbgenqcsig(1, 1, [1, 1, 1]), crcbgenqcsig([1,2], 1, [1, 1, 1])"
   ]
  },
  {
   "cell_type": "code",
   "execution_count": 3,
   "metadata": {},
   "outputs": [
    {
     "name": "stdout",
     "output_type": "stream",
     "text": [
      "search: \u001b[0m\u001b[1mc\u001b[22m\u001b[0m\u001b[1mr\u001b[22m\u001b[0m\u001b[1mc\u001b[22m\u001b[0m\u001b[1mb\u001b[22m\u001b[0m\u001b[1mg\u001b[22m\u001b[0m\u001b[1me\u001b[22m\u001b[0m\u001b[1mn\u001b[22m\u001b[0m\u001b[1mq\u001b[22m\u001b[0m\u001b[1mc\u001b[22m\u001b[0m\u001b[1ms\u001b[22m\u001b[0m\u001b[1mi\u001b[22m\u001b[0m\u001b[1mg\u001b[22m\n",
      "\n"
     ]
    },
    {
     "data": {
      "text/latex": [
       "Generate a quadratic chirp signal S = CRCBGENQSIG(X,SNR,C) Generates a quadratic chirp signal S. X is the vector of time stamps at which the samples of the signal are to be computed. SNR is the matched filtering signal-to-noise ratio of S and C is the vector of three coefficients [a1, a2, a3] that parametrize the phase of the signal: a1\\emph{t+a2}t\\^{}2+a3*t\\^{}3. \n",
       "\n"
      ],
      "text/markdown": [
       "Generate a quadratic chirp signal S = CRCBGENQSIG(X,SNR,C) Generates a quadratic chirp signal S. X is the vector of time stamps at which the samples of the signal are to be computed. SNR is the matched filtering signal-to-noise ratio of S and C is the vector of three coefficients [a1, a2, a3] that parametrize the phase of the signal: a1*t+a2*t^2+a3*t^3. \n"
      ],
      "text/plain": [
       "  Generate a quadratic chirp signal S = CRCBGENQSIG(X,SNR,C) Generates a\n",
       "  quadratic chirp signal S. X is the vector of time stamps at which the\n",
       "  samples of the signal are to be computed. SNR is the matched filtering\n",
       "  signal-to-noise ratio of S and C is the vector of three coefficients [a1,\n",
       "  a2, a3] that parametrize the phase of the signal: a1\u001b[4mt+a2\u001b[24mt^2+a3*t^3. "
      ]
     },
     "execution_count": 3,
     "metadata": {},
     "output_type": "execute_result"
    }
   ],
   "source": [
    "?crcbgenqcsig"
   ]
  },
  {
   "cell_type": "markdown",
   "metadata": {},
   "source": [
    "## Spectrogram"
   ]
  },
  {
   "cell_type": "code",
   "execution_count": 4,
   "metadata": {},
   "outputs": [],
   "source": [
    "sampFreq = 1024;\n",
    "nSamples = 2048;\n",
    "timeVec = (0:(nSamples-1))/sampFreq;\n",
    "timeVec = collect(timeVec);"
   ]
  },
  {
   "cell_type": "code",
   "execution_count": 5,
   "metadata": {},
   "outputs": [],
   "source": [
    "# Quadratic chirp signal\n",
    "# Signal parameters\n",
    "a1=10;\n",
    "a2=3;\n",
    "a3=10;\n",
    "A = 10;\n",
    "fs=sampFreq;"
   ]
  },
  {
   "cell_type": "code",
   "execution_count": 6,
   "metadata": {},
   "outputs": [],
   "source": [
    "# Generate signal\n",
    "sigVec = crcbgenqcsig(timeVec,A,[a1,a2,a3]);"
   ]
  },
  {
   "cell_type": "code",
   "execution_count": 7,
   "metadata": {},
   "outputs": [
    {
     "data": {
      "text/plain": [
       "plot_spectrogram (generic function with 1 method)"
      ]
     },
     "execution_count": 7,
     "metadata": {},
     "output_type": "execute_result"
    }
   ],
   "source": [
    "# PyPlot includes a specgram function, but let's use the native implementation in DSP.jl\n",
    "# The function below takes a spectrogram with standard parameters for speech (25ms Hanning windows/10ms overlap),\n",
    "# plots it and returns the spectrogram in case we want to do something with it.\n",
    "\n",
    "flipud(A) = reverse(A, dims = 1)\n",
    "\n",
    "function plot_spectrogram(S::DSP.Periodograms.Spectrogram)\n",
    "    t = time(S)\n",
    "    f = freq(S)\n",
    "    imshow(flipud(power(S)), extent=[first(f), last(f), first(t), last(t)], aspect=\"auto\")\n",
    "end"
   ]
  },
  {
   "cell_type": "code",
   "execution_count": 8,
   "metadata": {},
   "outputs": [
    {
     "data": {
      "image/png": "[encoded data removed]",
      "text/plain": [
       "Figure(PyObject <Figure size 640x480 with 1 Axes>)"
      ]
     },
     "metadata": {},
     "output_type": "display_data"
    },
    {
     "data": {
      "text/plain": [
       "PyObject <matplotlib.image.AxesImage object at 0x7fb56c12ca20>"
      ]
     },
     "execution_count": 8,
     "metadata": {},
     "output_type": "execute_result"
    }
   ],
   "source": [
    "# Make spectrogram with different time-frequency resolution\n",
    "S = spectrogram(sigVec, 128, 127; fs=sampFreq);\n",
    "\n",
    "plot_spectrogram(S)"
   ]
  },
  {
   "cell_type": "code",
   "execution_count": 9,
   "metadata": {},
   "outputs": [
    {
     "data": {
      "image/png": "[encoded data removed]",
      "text/plain": [
       "Figure(PyObject <Figure size 640x480 with 1 Axes>)"
      ]
     },
     "metadata": {},
     "output_type": "display_data"
    },
    {
     "data": {
      "text/plain": [
       "PyObject <matplotlib.image.AxesImage object at 0x7fb56bf984a8>"
      ]
     },
     "execution_count": 9,
     "metadata": {},
     "output_type": "execute_result"
    }
   ],
   "source": [
    "# Make spectrogram with different time-frequency resolution\n",
    "S = spectrogram(sigVec, 256, 250; fs=sampFreq);\n",
    "\n",
    "plot_spectrogram(S)"
   ]
  }
 ],
 "metadata": {
  "kernelspec": {
   "display_name": "Julia 1.0.3",
   "language": "julia",
   "name": "julia-1.0"
  },
  "language_info": {
   "file_extension": ".jl",
   "mimetype": "application/julia",
   "name": "julia",
   "version": "1.0.3"
  }
 },
 "nbformat": 4,
 "nbformat_minor": 2
}
